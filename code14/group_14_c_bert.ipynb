{
 "cells": [
  {
   "cell_type": "markdown",
   "id": "choice-negative",
   "metadata": {},
   "source": [
    "# Bert"
   ]
  },
  {
   "cell_type": "code",
   "execution_count": 2,
   "id": "difficult-chamber",
   "metadata": {},
   "outputs": [
    {
     "name": "stdout",
     "output_type": "stream",
     "text": [
      "TF Version: 2.4.1\n",
      "Keras Version: 2.4.0\n",
      "[PhysicalDevice(name='/physical_device:GPU:0', device_type='GPU')]\n"
     ]
    }
   ],
   "source": [
    "import os\n",
    "import shutil\n",
    "import pandas as pd\n",
    "import numpy as np\n",
    "from tqdm.notebook import tqdm\n",
    "\n",
    "import tensorflow as tf\n",
    "\n",
    "print(\"TF Version:\", tf.__version__)\n",
    "print(\"Keras Version:\", tf.keras.__version__)\n",
    "print(tf.config.list_physical_devices('GPU'))\n",
    "\n",
    "physical_devices = tf.config.list_physical_devices('GPU') \n",
    "tf.config.experimental.set_memory_growth(physical_devices[0], True)\n",
    "\n",
    "import tensorflow_hub as hub\n",
    "import tensorflow_text as text\n",
    "from official.nlp import optimization  # to create AdamW optmizer\n",
    "\n",
    "import matplotlib.pyplot as plt\n",
    "\n",
    "tf.get_logger().setLevel('ERROR')"
   ]
  },
  {
   "cell_type": "code",
   "execution_count": 3,
   "id": "stretch-robinson",
   "metadata": {},
   "outputs": [
    {
     "data": {
      "text/plain": [
       "(1269, 2)"
      ]
     },
     "execution_count": 3,
     "metadata": {},
     "output_type": "execute_result"
    }
   ],
   "source": [
    "df = pd.read_csv(\"../data/train.csv\").drop(columns=['Unnamed: 0'])[['Text', 'Outcome']]\n",
    "df.shape"
   ]
  },
  {
   "cell_type": "code",
   "execution_count": 4,
   "id": "voluntary-wallpaper",
   "metadata": {},
   "outputs": [
    {
     "name": "stdout",
     "output_type": "stream",
     "text": [
      "<class 'pandas.core.frame.DataFrame'>\n",
      "RangeIndex: 1269 entries, 0 to 1268\n",
      "Data columns (total 2 columns):\n",
      " #   Column   Non-Null Count  Dtype  \n",
      "---  ------   --------------  -----  \n",
      " 0   Text     1269 non-null   object \n",
      " 1   Outcome  1269 non-null   float64\n",
      "dtypes: float64(1), object(1)\n",
      "memory usage: 20.0+ KB\n"
     ]
    }
   ],
   "source": [
    "df.info()"
   ]
  },
  {
   "cell_type": "code",
   "execution_count": 5,
   "id": "further-payment",
   "metadata": {},
   "outputs": [
    {
     "data": {
      "text/plain": [
       "0.0    793\n",
       "1.0    321\n",
       "2.0    155\n",
       "Name: Outcome, dtype: int64"
      ]
     },
     "execution_count": 5,
     "metadata": {},
     "output_type": "execute_result"
    }
   ],
   "source": [
    "df['Outcome'].value_counts()"
   ]
  },
  {
   "cell_type": "markdown",
   "id": "combined-wallace",
   "metadata": {},
   "source": [
    "## Preprocessing"
   ]
  },
  {
   "cell_type": "code",
   "execution_count": 21,
   "id": "unavailable-depth",
   "metadata": {
    "tags": []
   },
   "outputs": [],
   "source": [
    "import re\n",
    "import html\n",
    "from gensim.parsing.preprocessing import remove_stopwords\n",
    "from functools import reduce\n",
    "\n",
    "def composite_function(*func): \n",
    "    def compose(f, g): \n",
    "        return lambda x: f(g(x))   \n",
    "    return reduce(compose, func, lambda x: x)\n",
    "\n",
    "def convert_html(x):\n",
    "    return html.unescape(x)\n",
    "\n",
    "def remove_str_controls(x):\n",
    "    patt = r\"[\\n\\r\\t]\"\n",
    "    return re.sub(patt, \" \", x)\n",
    "\n",
    "def remove_urls(x):\n",
    "    patt1 = r\"https?:\\/\\/(www\\.)?[-a-zA-Z0-9@:%._\\+~#=]{1,256}\\.[a-zA-Z0-9()]{1,6}\\b([-a-zA-Z0-9()@:%_\\+.~#?&//=]*)\"\n",
    "    patt2 = r\"[-a-zA-Z0-9@:%._\\+~#=]{1,256}\\.[a-zA-Z0-9()]{1,6}\\b([-a-zA-Z0-9()@:%_\\+.~#?&//=]*)\"\n",
    "    return re.sub(patt2, \" \", re.sub(patt1, \" \", x))\n",
    "\n",
    "def remove_non_letters(x):\n",
    "    patt = r\"[^a-zA-Z',. ]\"\n",
    "    return re.sub(patt, \"\", x)\n",
    "\n",
    "pipeline = composite_function(\n",
    "    remove_non_letters,\n",
    "    remove_urls,\n",
    "    remove_str_controls,\n",
    "    convert_html,\n",
    "    str.lower\n",
    ")"
   ]
  },
  {
   "cell_type": "code",
   "execution_count": 22,
   "id": "thousand-custody",
   "metadata": {},
   "outputs": [
    {
     "data": {
      "text/html": [
       "<div>\n",
       "<style scoped>\n",
       "    .dataframe tbody tr th:only-of-type {\n",
       "        vertical-align: middle;\n",
       "    }\n",
       "\n",
       "    .dataframe tbody tr th {\n",
       "        vertical-align: top;\n",
       "    }\n",
       "\n",
       "    .dataframe thead th {\n",
       "        text-align: right;\n",
       "    }\n",
       "</style>\n",
       "<table border=\"1\" class=\"dataframe\">\n",
       "  <thead>\n",
       "    <tr style=\"text-align: right;\">\n",
       "      <th></th>\n",
       "      <th>Text</th>\n",
       "      <th>Outcome</th>\n",
       "    </tr>\n",
       "  </thead>\n",
       "  <tbody>\n",
       "    <tr>\n",
       "      <th>0</th>\n",
       "      <td>My family and friends are the only thing keepi...</td>\n",
       "      <td>1.0</td>\n",
       "    </tr>\n",
       "    <tr>\n",
       "      <th>1</th>\n",
       "      <td>I’m the guy who puts food in random places in ...</td>\n",
       "      <td>0.0</td>\n",
       "    </tr>\n",
       "    <tr>\n",
       "      <th>2</th>\n",
       "      <td>Has anyone here had their life completely turn...</td>\n",
       "      <td>0.0</td>\n",
       "    </tr>\n",
       "    <tr>\n",
       "      <th>3</th>\n",
       "      <td>i'm so tired and cold i'm tired\\n\\nand i just ...</td>\n",
       "      <td>1.0</td>\n",
       "    </tr>\n",
       "    <tr>\n",
       "      <th>4</th>\n",
       "      <td>They said ma days are numbered, but I keep wak...</td>\n",
       "      <td>0.0</td>\n",
       "    </tr>\n",
       "  </tbody>\n",
       "</table>\n",
       "</div>"
      ],
      "text/plain": [
       "                                                Text  Outcome\n",
       "0  My family and friends are the only thing keepi...      1.0\n",
       "1  I’m the guy who puts food in random places in ...      0.0\n",
       "2  Has anyone here had their life completely turn...      0.0\n",
       "3  i'm so tired and cold i'm tired\\n\\nand i just ...      1.0\n",
       "4  They said ma days are numbered, but I keep wak...      0.0"
      ]
     },
     "execution_count": 22,
     "metadata": {},
     "output_type": "execute_result"
    }
   ],
   "source": [
    "df.head()"
   ]
  },
  {
   "cell_type": "markdown",
   "id": "chronic-breakfast",
   "metadata": {},
   "source": [
    "## Augmentations"
   ]
  },
  {
   "cell_type": "code",
   "execution_count": 23,
   "id": "fabulous-equality",
   "metadata": {
    "tags": []
   },
   "outputs": [],
   "source": [
    "import nlpaug.augmenter.word as naw\n",
    "from textaugment import Translate, Word2vec, Wordnet\n",
    "\n",
    "def back_translation_fr(x, src='en', to='fr'):\n",
    "    t = Translate(src=src, to=to, p=0.5)\n",
    "    try:\n",
    "        return t.augment(x)\n",
    "    except:\n",
    "        return x\n",
    "\n",
    "def back_translation_nl(x, src='en', to='nl'):\n",
    "    t = Translate(src=src, to=to, p=0.5)\n",
    "    try:\n",
    "        return t.augment(x)\n",
    "    except:\n",
    "        return x\n",
    "\n",
    "def word2vec(x):\n",
    "    return naw.SynonymAug().augment(x)\n",
    "\n",
    "def contextual_embedding(x):    \n",
    "    return naw.ContextualWordEmbsAug(top_k=20, optimize=True).augment(x, num_thread=16)\n",
    "\n",
    "contextual_pipeline = composite_function(\n",
    "    remove_non_letters,\n",
    "    contextual_embedding,\n",
    "    remove_urls,\n",
    "    remove_str_controls,\n",
    "    convert_html,\n",
    "    str.lower\n",
    ")\n",
    "\n",
    "word2vec_pipeline = composite_function(\n",
    "    remove_non_letters,\n",
    "    word2vec,\n",
    "    remove_urls,\n",
    "    remove_str_controls,\n",
    "    convert_html,\n",
    "    str.lower\n",
    ")\n",
    "\n",
    "rtt_fr_pipeline = composite_function(\n",
    "    remove_non_letters,\n",
    "    back_translation_fr,\n",
    "    remove_urls,\n",
    "    remove_str_controls,\n",
    "    convert_html,\n",
    "    str.lower\n",
    ")\n",
    "\n",
    "rtt_nl_pipeline = composite_function(\n",
    "    remove_non_letters,\n",
    "    back_translation_nl,\n",
    "    remove_urls,\n",
    "    remove_str_controls,\n",
    "    convert_html,\n",
    "    str.lower\n",
    ")\n",
    "\n",
    "def get_augmented_df(data, pipeline):\n",
    "    df = pd.DataFrame()\n",
    "    data = data[['Outcome', 'cleaned']].reset_index()\n",
    "    df['Outcome'] = data['Outcome'].copy()\n",
    "    df['original'] = data['cleaned'].copy()\n",
    "    df['augmented'] = [pipeline(x) for x in tqdm(data['cleaned'])]\n",
    "    return df"
   ]
  },
  {
   "cell_type": "code",
   "execution_count": 24,
   "id": "pleased-vancouver",
   "metadata": {
    "tags": []
   },
   "outputs": [],
   "source": [
    "from sklearn.model_selection import train_test_split\n",
    "\n",
    "seed = 42\n",
    "\n",
    "X = df['Text']\n",
    "y = df['Outcome'].astype(int)\n",
    "\n",
    "X_train, X_val, y_train, y_val = train_test_split(X, y, test_size=0.2, stratify=y, random_state=42)"
   ]
  },
  {
   "cell_type": "code",
   "execution_count": 29,
   "id": "fatty-practice",
   "metadata": {
    "tags": []
   },
   "outputs": [
    {
     "data": {
      "application/vnd.jupyter.widget-view+json": {
       "model_id": "0e0cdf240eb74e989fe95ed6deaf7563",
       "version_major": 2,
       "version_minor": 0
      },
      "text/plain": [
       "  0%|          | 0/1015 [00:00<?, ?it/s]"
      ]
     },
     "metadata": {},
     "output_type": "display_data"
    },
    {
     "data": {
      "application/vnd.jupyter.widget-view+json": {
       "model_id": "870a40ce99ba4fa485800dcc11ca4471",
       "version_major": 2,
       "version_minor": 0
      },
      "text/plain": [
       "  0%|          | 0/254 [00:00<?, ?it/s]"
      ]
     },
     "metadata": {},
     "output_type": "display_data"
    },
    {
     "data": {
      "text/html": [
       "<div>\n",
       "<style scoped>\n",
       "    .dataframe tbody tr th:only-of-type {\n",
       "        vertical-align: middle;\n",
       "    }\n",
       "\n",
       "    .dataframe tbody tr th {\n",
       "        vertical-align: top;\n",
       "    }\n",
       "\n",
       "    .dataframe thead th {\n",
       "        text-align: right;\n",
       "    }\n",
       "</style>\n",
       "<table border=\"1\" class=\"dataframe\">\n",
       "  <thead>\n",
       "    <tr style=\"text-align: right;\">\n",
       "      <th></th>\n",
       "      <th>Text</th>\n",
       "      <th>Outcome</th>\n",
       "      <th>cleaned</th>\n",
       "    </tr>\n",
       "  </thead>\n",
       "  <tbody>\n",
       "    <tr>\n",
       "      <th>1251</th>\n",
       "      <td>Don’t know what to do So, I’m new to this. Fir...</td>\n",
       "      <td>1</td>\n",
       "      <td>dont know what to do so, im new to this. first...</td>\n",
       "    </tr>\n",
       "    <tr>\n",
       "      <th>1108</th>\n",
       "      <td>I took the time to clean off my desk that’s be...</td>\n",
       "      <td>0</td>\n",
       "      <td>i took the time to clean off my desk thats bee...</td>\n",
       "    </tr>\n",
       "    <tr>\n",
       "      <th>368</th>\n",
       "      <td>Do people make you think that everything you d...</td>\n",
       "      <td>0</td>\n",
       "      <td>do people make you think that everything you d...</td>\n",
       "    </tr>\n",
       "    <tr>\n",
       "      <th>506</th>\n",
       "      <td>I am worried that I may be an Incel. Whenever ...</td>\n",
       "      <td>0</td>\n",
       "      <td>i am worried that i may be an incel. whenever ...</td>\n",
       "    </tr>\n",
       "    <tr>\n",
       "      <th>831</th>\n",
       "      <td>I need help but i dont want it. Im shaking, my...</td>\n",
       "      <td>0</td>\n",
       "      <td>i need help but i dont want it. im shaking, my...</td>\n",
       "    </tr>\n",
       "  </tbody>\n",
       "</table>\n",
       "</div>"
      ],
      "text/plain": [
       "                                                   Text  Outcome  \\\n",
       "1251  Don’t know what to do So, I’m new to this. Fir...        1   \n",
       "1108  I took the time to clean off my desk that’s be...        0   \n",
       "368   Do people make you think that everything you d...        0   \n",
       "506   I am worried that I may be an Incel. Whenever ...        0   \n",
       "831   I need help but i dont want it. Im shaking, my...        0   \n",
       "\n",
       "                                                cleaned  \n",
       "1251  dont know what to do so, im new to this. first...  \n",
       "1108  i took the time to clean off my desk thats bee...  \n",
       "368   do people make you think that everything you d...  \n",
       "506   i am worried that i may be an incel. whenever ...  \n",
       "831   i need help but i dont want it. im shaking, my...  "
      ]
     },
     "execution_count": 29,
     "metadata": {},
     "output_type": "execute_result"
    }
   ],
   "source": [
    "X_train_data = pd.DataFrame(X_train.copy())\n",
    "X_train_data['Outcome'] = y_train\n",
    "X_train_data['cleaned'] = [pipeline(x) for x in tqdm(X_train)]\n",
    "\n",
    "X_val_data = pd.DataFrame(X_val.copy())\n",
    "X_val_data['Outcome'] = y_val\n",
    "X_val_data['cleaned'] = [pipeline(x) for x in tqdm(X_val)]\n",
    "\n",
    "X_train_data.head()"
   ]
  },
  {
   "cell_type": "code",
   "execution_count": 31,
   "id": "ecological-chance",
   "metadata": {
    "tags": []
   },
   "outputs": [
    {
     "data": {
      "application/vnd.jupyter.widget-view+json": {
       "model_id": "ac556e0adabc4d22815ea8c88dd5b633",
       "version_major": 2,
       "version_minor": 0
      },
      "text/plain": [
       "  0%|          | 0/1015 [00:00<?, ?it/s]"
      ]
     },
     "metadata": {},
     "output_type": "display_data"
    }
   ],
   "source": [
    "word2vec_df = get_augmented_df(X_train_data, word2vec_pipeline)\n",
    "word2vec_df.to_csv(\"../data/export/word2vec_df.csv\", index=False)"
   ]
  },
  {
   "cell_type": "code",
   "execution_count": 32,
   "id": "shaped-connection",
   "metadata": {},
   "outputs": [
    {
     "data": {
      "application/vnd.jupyter.widget-view+json": {
       "model_id": "efd0756e6f2d4baabb17375ff67a264b",
       "version_major": 2,
       "version_minor": 0
      },
      "text/plain": [
       "  0%|          | 0/1015 [00:00<?, ?it/s]"
      ]
     },
     "metadata": {},
     "output_type": "display_data"
    }
   ],
   "source": [
    "rtt_fr_df = get_augmented_df(X_train_data, rtt_fr_pipeline)\n",
    "rtt_fr_df.to_csv(\"../data/export/rtt_fr_df.csv\", index=False)"
   ]
  },
  {
   "cell_type": "code",
   "execution_count": 33,
   "id": "outer-english",
   "metadata": {},
   "outputs": [
    {
     "data": {
      "application/vnd.jupyter.widget-view+json": {
       "model_id": "3457c782c6404deab1953db21aece689",
       "version_major": 2,
       "version_minor": 0
      },
      "text/plain": [
       "  0%|          | 0/1015 [00:00<?, ?it/s]"
      ]
     },
     "metadata": {},
     "output_type": "display_data"
    }
   ],
   "source": [
    "rtt_nl_df = get_augmented_df(X_train_data, rtt_nl_pipeline)\n",
    "rtt_nl_df.to_csv(\"../data/export/rtt_nl_df.csv\", index=False)"
   ]
  },
  {
   "cell_type": "code",
   "execution_count": 34,
   "id": "specific-depth",
   "metadata": {},
   "outputs": [
    {
     "data": {
      "application/vnd.jupyter.widget-view+json": {
       "model_id": "e8c050aff86f40888cabb0f82cf328f4",
       "version_major": 2,
       "version_minor": 0
      },
      "text/plain": [
       "  0%|          | 0/1015 [00:00<?, ?it/s]"
      ]
     },
     "metadata": {},
     "output_type": "display_data"
    }
   ],
   "source": [
    "contextual_df = get_augmented_df(X_train_data, contextual_pipeline)\n",
    "contextual_df.to_csv(\"../data/export/contextual_df.csv\", index=False)"
   ]
  },
  {
   "cell_type": "markdown",
   "id": "personal-selection",
   "metadata": {},
   "source": [
    "## Oversampling / Undersampling"
   ]
  },
  {
   "cell_type": "code",
   "execution_count": 37,
   "id": "talented-commission",
   "metadata": {},
   "outputs": [
    {
     "name": "stdout",
     "output_type": "stream",
     "text": [
      "4299\n"
     ]
    },
    {
     "data": {
      "text/html": [
       "<div>\n",
       "<style scoped>\n",
       "    .dataframe tbody tr th:only-of-type {\n",
       "        vertical-align: middle;\n",
       "    }\n",
       "\n",
       "    .dataframe tbody tr th {\n",
       "        vertical-align: top;\n",
       "    }\n",
       "\n",
       "    .dataframe thead th {\n",
       "        text-align: right;\n",
       "    }\n",
       "</style>\n",
       "<table border=\"1\" class=\"dataframe\">\n",
       "  <thead>\n",
       "    <tr style=\"text-align: right;\">\n",
       "      <th></th>\n",
       "      <th>Outcome</th>\n",
       "      <th>Text</th>\n",
       "    </tr>\n",
       "  </thead>\n",
       "  <tbody>\n",
       "    <tr>\n",
       "      <th>0</th>\n",
       "      <td>1.0</td>\n",
       "      <td>i know what to do so, im new to this. first ti...</td>\n",
       "    </tr>\n",
       "    <tr>\n",
       "      <th>1</th>\n",
       "      <td>0.0</td>\n",
       "      <td>i have the lead to clean off our desk who been...</td>\n",
       "    </tr>\n",
       "    <tr>\n",
       "      <th>2</th>\n",
       "      <td>0.0</td>\n",
       "      <td>do people make you think that everything you b...</td>\n",
       "    </tr>\n",
       "    <tr>\n",
       "      <th>3</th>\n",
       "      <td>0.0</td>\n",
       "      <td>i always worried that i must be your ex. whene...</td>\n",
       "    </tr>\n",
       "    <tr>\n",
       "      <th>4</th>\n",
       "      <td>0.0</td>\n",
       "      <td>i need you but i dont want it. im shaking, bec...</td>\n",
       "    </tr>\n",
       "  </tbody>\n",
       "</table>\n",
       "</div>"
      ],
      "text/plain": [
       "   Outcome                                               Text\n",
       "0      1.0  i know what to do so, im new to this. first ti...\n",
       "1      0.0  i have the lead to clean off our desk who been...\n",
       "2      0.0  do people make you think that everything you b...\n",
       "3      0.0  i always worried that i must be your ex. whene...\n",
       "4      0.0  i need you but i dont want it. im shaking, bec..."
      ]
     },
     "execution_count": 37,
     "metadata": {},
     "output_type": "execute_result"
    }
   ],
   "source": [
    "import glob\n",
    "\n",
    "aug_df = pd.DataFrame()\n",
    "\n",
    "for filepath in glob.glob(\"../data/export/*.csv\"):\n",
    "    input_df = pd.read_csv(filepath)\n",
    "    aug_df = pd.concat([aug_df, input_df], ignore_index=True)\n",
    "\n",
    "aug_df = aug_df[['Outcome', 'augmented']].rename(columns={'augmented': 'Text'}) \n",
    "ori_df = df\n",
    "\n",
    "training_data = pd.concat([aug_df, ori_df], ignore_index=True)\n",
    "training_data.dropna(inplace=True)\n",
    "training_data.drop_duplicates(inplace=True)\n",
    "training_data.reset_index(drop=True, inplace=True)\n",
    "\n",
    "training_data.to_csv(\"../data/export/augmented_train_data.csv\", index=False)\n",
    "\n",
    "print(len(training_data))\n",
    "training_data.head()"
   ]
  },
  {
   "cell_type": "code",
   "execution_count": 38,
   "id": "juvenile-plenty",
   "metadata": {},
   "outputs": [
    {
     "data": {
      "text/plain": [
       "0.0    2683\n",
       "1.0    1089\n",
       "2.0     527\n",
       "Name: Outcome, dtype: int64"
      ]
     },
     "execution_count": 38,
     "metadata": {},
     "output_type": "execute_result"
    }
   ],
   "source": [
    "training_data['Outcome'].value_counts()"
   ]
  },
  {
   "cell_type": "code",
   "execution_count": 39,
   "id": "chubby-popularity",
   "metadata": {},
   "outputs": [
    {
     "data": {
      "text/plain": [
       "0    2683\n",
       "1    1089\n",
       "2     527\n",
       "dtype: int64"
      ]
     },
     "execution_count": 39,
     "metadata": {},
     "output_type": "execute_result"
    }
   ],
   "source": [
    "from imblearn.under_sampling import RandomUnderSampler\n",
    "from imblearn.over_sampling import RandomOverSampler\n",
    "\n",
    "X, y = pd.DataFrame(training_data['Text']), training_data['Outcome'].values\n",
    "\n",
    "# # define oversampling strategy\n",
    "# over = RandomOverSampler(sampling_strategy='auto')\n",
    "# # fit and apply the transform\n",
    "# X, y = over.fit_resample(X, y)\n",
    "\n",
    "y = np.array(y, dtype=np.int32)\n",
    "\n",
    "pd.Series(y).value_counts()"
   ]
  },
  {
   "cell_type": "code",
   "execution_count": 41,
   "id": "suspended-assembly",
   "metadata": {},
   "outputs": [
    {
     "data": {
      "text/plain": [
       "{0: 0.5341036153559449, 1: 1.3158861340679522, 2: 2.7191650853889944}"
      ]
     },
     "execution_count": 41,
     "metadata": {},
     "output_type": "execute_result"
    }
   ],
   "source": [
    "from sklearn.utils.class_weight import compute_class_weight\n",
    "\n",
    "weights = compute_class_weight('balanced', classes=np.unique(y), y=y)\n",
    "class_weights = {x:y for x, y in zip(np.unique(y), weights)}\n",
    "class_weights"
   ]
  },
  {
   "cell_type": "markdown",
   "id": "copyrighted-robert",
   "metadata": {},
   "source": [
    "## Preparing Bert Inputs"
   ]
  },
  {
   "cell_type": "code",
   "execution_count": 45,
   "id": "behavioral-robertson",
   "metadata": {},
   "outputs": [],
   "source": [
    "AUTOTUNE = tf.data.AUTOTUNE\n",
    "batch_size = 16\n",
    "seed = 42\n",
    "num_classes = len(np.unique(y_train))\n",
    "\n",
    "train_ds = tf.data.Dataset.from_tensor_slices(\n",
    "    (training_data['Text'].values, training_data['Outcome'])\n",
    ").batch(batch_size, drop_remainder=False).cache().prefetch(buffer_size=AUTOTUNE)\n",
    "\n",
    "val_ds = tf.data.Dataset.from_tensor_slices(\n",
    "    (X_val_data['cleaned'].values, X_val_data['Outcome'])\n",
    ").batch(batch_size, drop_remainder=False).cache().prefetch(buffer_size=AUTOTUNE)"
   ]
  },
  {
   "cell_type": "code",
   "execution_count": 46,
   "id": "accredited-exhaust",
   "metadata": {},
   "outputs": [
    {
     "name": "stdout",
     "output_type": "stream",
     "text": [
      "Title: b'i know what to do so, im new to this. first time posting on reddit or anywhere. ive talked with people in the past, no real contact. from anyones perspective, i have a good life. wife, kids, good career, healthy family. literally nothing to complain about. most anyone would say im lucky, and i am for the most part. im an ass for complaining. despite all that, i wish i was dead. every morning. all the time. i dont have the courage to kill myself. death would be so many people around me. the logical part of me knows it isnt true, but my gut tells me theyd all be better off without me here, even if they dont know him. i give no value to anything. theres nothing i really can contribute. im, and ive felt this way for as long if i can remember. i cant connect with people. not really. im dont have no legit friends, just people who kinda know me. im incapable of making emotional connections. i have nobody to talk with about this. i dont know what im trying to accomplish by posting this. im just lost and have nowhere to go. i just want to not stay here anymore, for it all to just go away, like i never existed. this keeps getting worse, and i know nothing will fix who i am. im just desperate for something.'\n",
      "Label : 1.0\n",
      "Title: b'i have the lead to clean off our desk who been a mess of mess for months now that would feel much more motivated. sometimes its just doing the only things i go difficult that help the most guys you can get through this slump'\n",
      "Label : 0.0\n",
      "Title: b'do people make you think that everything you believe is wrong any time i do anything, i just assume im proving it wrong. usually i get in some argument, even when i know im not the bad guy, the other person makes it seem likely im wrong. people are so rude to me and i dont know why, because i dont lie to everyone or do anything to bother people. i have a rather low self esteem, but if i say it, they think me just looking for pity.'\n",
      "Label : 0.0\n"
     ]
    }
   ],
   "source": [
    "for text_batch, label_batch in train_ds.take(1):\n",
    "  for i in range(3):\n",
    "    print(f'Title: {text_batch.numpy()[i]}')\n",
    "    label = label_batch.numpy()[i]\n",
    "    print(f'Label : {label}')"
   ]
  },
  {
   "cell_type": "code",
   "execution_count": 47,
   "id": "quantitative-tunisia",
   "metadata": {},
   "outputs": [
    {
     "name": "stdout",
     "output_type": "stream",
     "text": [
      "BERT model selected           : https://tfhub.dev/google/electra_small/2\n",
      "Preprocess model auto-selected: https://tfhub.dev/tensorflow/bert_en_uncased_preprocess/3\n"
     ]
    }
   ],
   "source": [
    "#@title Choose a BERT model to fine-tune\n",
    "\n",
    "# bert_model_name = 'small_bert/bert_en_uncased_L-4_H-512_A-8'  #@param [\"bert_en_uncased_L-12_H-768_A-12\", \"bert_en_cased_L-12_H-768_A-12\", \"bert_multi_cased_L-12_H-768_A-12\", \"small_bert/bert_en_uncased_L-2_H-128_A-2\", \"small_bert/bert_en_uncased_L-2_H-256_A-4\", \"small_bert/bert_en_uncased_L-2_H-512_A-8\", \"small_bert/bert_en_uncased_L-2_H-768_A-12\", \"small_bert/bert_en_uncased_L-4_H-128_A-2\", \"small_bert/bert_en_uncased_L-4_H-256_A-4\", \"small_bert/bert_en_uncased_L-4_H-512_A-8\", \"small_bert/bert_en_uncased_L-4_H-768_A-12\", \"small_bert/bert_en_uncased_L-6_H-128_A-2\", \"small_bert/bert_en_uncased_L-6_H-256_A-4\", \"small_bert/bert_en_uncased_L-6_H-512_A-8\", \"small_bert/bert_en_uncased_L-6_H-768_A-12\", \"small_bert/bert_en_uncased_L-8_H-128_A-2\", \"small_bert/bert_en_uncased_L-8_H-256_A-4\", \"small_bert/bert_en_uncased_L-8_H-512_A-8\", \"small_bert/bert_en_uncased_L-8_H-768_A-12\", \"small_bert/bert_en_uncased_L-10_H-128_A-2\", \"small_bert/bert_en_uncased_L-10_H-256_A-4\", \"small_bert/bert_en_uncased_L-10_H-512_A-8\", \"small_bert/bert_en_uncased_L-10_H-768_A-12\", \"small_bert/bert_en_uncased_L-12_H-128_A-2\", \"small_bert/bert_en_uncased_L-12_H-256_A-4\", \"small_bert/bert_en_uncased_L-12_H-512_A-8\", \"small_bert/bert_en_uncased_L-12_H-768_A-12\", \"albert_en_base\", \"electra_small\", \"electra_base\", \"experts_pubmed\", \"experts_wiki_books\", \"talking-heads_base\"]\n",
    "# bert_model_name = 'small_bert/bert_en_uncased_L-2_H-128_A-2'\n",
    "bert_model_name = 'electra_small'\n",
    "\n",
    "map_name_to_handle = {\n",
    "    'bert_en_uncased_L-12_H-768_A-12':\n",
    "        'https://tfhub.dev/tensorflow/bert_en_uncased_L-12_H-768_A-12/3',\n",
    "    'bert_en_cased_L-12_H-768_A-12':\n",
    "        'https://tfhub.dev/tensorflow/bert_en_cased_L-12_H-768_A-12/3',\n",
    "    'bert_multi_cased_L-12_H-768_A-12':\n",
    "        'https://tfhub.dev/tensorflow/bert_multi_cased_L-12_H-768_A-12/3',\n",
    "    'small_bert/bert_en_uncased_L-2_H-128_A-2':\n",
    "        'https://tfhub.dev/tensorflow/small_bert/bert_en_uncased_L-2_H-128_A-2/1',\n",
    "    'small_bert/bert_en_uncased_L-2_H-256_A-4':\n",
    "        'https://tfhub.dev/tensorflow/small_bert/bert_en_uncased_L-2_H-256_A-4/1',\n",
    "    'small_bert/bert_en_uncased_L-2_H-512_A-8':\n",
    "        'https://tfhub.dev/tensorflow/small_bert/bert_en_uncased_L-2_H-512_A-8/1',\n",
    "    'small_bert/bert_en_uncased_L-2_H-768_A-12':\n",
    "        'https://tfhub.dev/tensorflow/small_bert/bert_en_uncased_L-2_H-768_A-12/1',\n",
    "    'small_bert/bert_en_uncased_L-4_H-128_A-2':\n",
    "        'https://tfhub.dev/tensorflow/small_bert/bert_en_uncased_L-4_H-128_A-2/1',\n",
    "    'small_bert/bert_en_uncased_L-4_H-256_A-4':\n",
    "        'https://tfhub.dev/tensorflow/small_bert/bert_en_uncased_L-4_H-256_A-4/1',\n",
    "    'small_bert/bert_en_uncased_L-4_H-512_A-8':\n",
    "        'https://tfhub.dev/tensorflow/small_bert/bert_en_uncased_L-4_H-512_A-8/1',\n",
    "    'small_bert/bert_en_uncased_L-4_H-768_A-12':\n",
    "        'https://tfhub.dev/tensorflow/small_bert/bert_en_uncased_L-4_H-768_A-12/1',\n",
    "    'small_bert/bert_en_uncased_L-6_H-128_A-2':\n",
    "        'https://tfhub.dev/tensorflow/small_bert/bert_en_uncased_L-6_H-128_A-2/1',\n",
    "    'small_bert/bert_en_uncased_L-6_H-256_A-4':\n",
    "        'https://tfhub.dev/tensorflow/small_bert/bert_en_uncased_L-6_H-256_A-4/1',\n",
    "    'small_bert/bert_en_uncased_L-6_H-512_A-8':\n",
    "        'https://tfhub.dev/tensorflow/small_bert/bert_en_uncased_L-6_H-512_A-8/1',\n",
    "    'small_bert/bert_en_uncased_L-6_H-768_A-12':\n",
    "        'https://tfhub.dev/tensorflow/small_bert/bert_en_uncased_L-6_H-768_A-12/1',\n",
    "    'small_bert/bert_en_uncased_L-8_H-128_A-2':\n",
    "        'https://tfhub.dev/tensorflow/small_bert/bert_en_uncased_L-8_H-128_A-2/1',\n",
    "    'small_bert/bert_en_uncased_L-8_H-256_A-4':\n",
    "        'https://tfhub.dev/tensorflow/small_bert/bert_en_uncased_L-8_H-256_A-4/1',\n",
    "    'small_bert/bert_en_uncased_L-8_H-512_A-8':\n",
    "        'https://tfhub.dev/tensorflow/small_bert/bert_en_uncased_L-8_H-512_A-8/1',\n",
    "    'small_bert/bert_en_uncased_L-8_H-768_A-12':\n",
    "        'https://tfhub.dev/tensorflow/small_bert/bert_en_uncased_L-8_H-768_A-12/1',\n",
    "    'small_bert/bert_en_uncased_L-10_H-128_A-2':\n",
    "        'https://tfhub.dev/tensorflow/small_bert/bert_en_uncased_L-10_H-128_A-2/1',\n",
    "    'small_bert/bert_en_uncased_L-10_H-256_A-4':\n",
    "        'https://tfhub.dev/tensorflow/small_bert/bert_en_uncased_L-10_H-256_A-4/1',\n",
    "    'small_bert/bert_en_uncased_L-10_H-512_A-8':\n",
    "        'https://tfhub.dev/tensorflow/small_bert/bert_en_uncased_L-10_H-512_A-8/1',\n",
    "    'small_bert/bert_en_uncased_L-10_H-768_A-12':\n",
    "        'https://tfhub.dev/tensorflow/small_bert/bert_en_uncased_L-10_H-768_A-12/1',\n",
    "    'small_bert/bert_en_uncased_L-12_H-128_A-2':\n",
    "        'https://tfhub.dev/tensorflow/small_bert/bert_en_uncased_L-12_H-128_A-2/1',\n",
    "    'small_bert/bert_en_uncased_L-12_H-256_A-4':\n",
    "        'https://tfhub.dev/tensorflow/small_bert/bert_en_uncased_L-12_H-256_A-4/1',\n",
    "    'small_bert/bert_en_uncased_L-12_H-512_A-8':\n",
    "        'https://tfhub.dev/tensorflow/small_bert/bert_en_uncased_L-12_H-512_A-8/1',\n",
    "    'small_bert/bert_en_uncased_L-12_H-768_A-12':\n",
    "        'https://tfhub.dev/tensorflow/small_bert/bert_en_uncased_L-12_H-768_A-12/1',\n",
    "    'albert_en_base':\n",
    "        'https://tfhub.dev/tensorflow/albert_en_base/2',\n",
    "    'electra_small':\n",
    "        'https://tfhub.dev/google/electra_small/2',\n",
    "    'electra_base':\n",
    "        'https://tfhub.dev/google/electra_base/2',\n",
    "    'experts_pubmed':\n",
    "        'https://tfhub.dev/google/experts/bert/pubmed/2',\n",
    "    'experts_wiki_books':\n",
    "        'https://tfhub.dev/google/experts/bert/wiki_books/2',\n",
    "    'talking-heads_base':\n",
    "        'https://tfhub.dev/tensorflow/talkheads_ggelu_bert_en_base/1',\n",
    "}\n",
    "\n",
    "map_model_to_preprocess = {\n",
    "    'bert_en_uncased_L-12_H-768_A-12':\n",
    "        'https://tfhub.dev/tensorflow/bert_en_uncased_preprocess/3',\n",
    "    'bert_en_cased_L-12_H-768_A-12':\n",
    "        'https://tfhub.dev/tensorflow/bert_en_cased_preprocess/3',\n",
    "    'small_bert/bert_en_uncased_L-2_H-128_A-2':\n",
    "        'https://tfhub.dev/tensorflow/bert_en_uncased_preprocess/3',\n",
    "    'small_bert/bert_en_uncased_L-2_H-256_A-4':\n",
    "        'https://tfhub.dev/tensorflow/bert_en_uncased_preprocess/3',\n",
    "    'small_bert/bert_en_uncased_L-2_H-512_A-8':\n",
    "        'https://tfhub.dev/tensorflow/bert_en_uncased_preprocess/3',\n",
    "    'small_bert/bert_en_uncased_L-2_H-768_A-12':\n",
    "        'https://tfhub.dev/tensorflow/bert_en_uncased_preprocess/3',\n",
    "    'small_bert/bert_en_uncased_L-4_H-128_A-2':\n",
    "        'https://tfhub.dev/tensorflow/bert_en_uncased_preprocess/3',\n",
    "    'small_bert/bert_en_uncased_L-4_H-256_A-4':\n",
    "        'https://tfhub.dev/tensorflow/bert_en_uncased_preprocess/3',\n",
    "    'small_bert/bert_en_uncased_L-4_H-512_A-8':\n",
    "        'https://tfhub.dev/tensorflow/bert_en_uncased_preprocess/3',\n",
    "    'small_bert/bert_en_uncased_L-4_H-768_A-12':\n",
    "        'https://tfhub.dev/tensorflow/bert_en_uncased_preprocess/3',\n",
    "    'small_bert/bert_en_uncased_L-6_H-128_A-2':\n",
    "        'https://tfhub.dev/tensorflow/bert_en_uncased_preprocess/3',\n",
    "    'small_bert/bert_en_uncased_L-6_H-256_A-4':\n",
    "        'https://tfhub.dev/tensorflow/bert_en_uncased_preprocess/3',\n",
    "    'small_bert/bert_en_uncased_L-6_H-512_A-8':\n",
    "        'https://tfhub.dev/tensorflow/bert_en_uncased_preprocess/3',\n",
    "    'small_bert/bert_en_uncased_L-6_H-768_A-12':\n",
    "        'https://tfhub.dev/tensorflow/bert_en_uncased_preprocess/3',\n",
    "    'small_bert/bert_en_uncased_L-8_H-128_A-2':\n",
    "        'https://tfhub.dev/tensorflow/bert_en_uncased_preprocess/3',\n",
    "    'small_bert/bert_en_uncased_L-8_H-256_A-4':\n",
    "        'https://tfhub.dev/tensorflow/bert_en_uncased_preprocess/3',\n",
    "    'small_bert/bert_en_uncased_L-8_H-512_A-8':\n",
    "        'https://tfhub.dev/tensorflow/bert_en_uncased_preprocess/3',\n",
    "    'small_bert/bert_en_uncased_L-8_H-768_A-12':\n",
    "        'https://tfhub.dev/tensorflow/bert_en_uncased_preprocess/3',\n",
    "    'small_bert/bert_en_uncased_L-10_H-128_A-2':\n",
    "        'https://tfhub.dev/tensorflow/bert_en_uncased_preprocess/3',\n",
    "    'small_bert/bert_en_uncased_L-10_H-256_A-4':\n",
    "        'https://tfhub.dev/tensorflow/bert_en_uncased_preprocess/3',\n",
    "    'small_bert/bert_en_uncased_L-10_H-512_A-8':\n",
    "        'https://tfhub.dev/tensorflow/bert_en_uncased_preprocess/3',\n",
    "    'small_bert/bert_en_uncased_L-10_H-768_A-12':\n",
    "        'https://tfhub.dev/tensorflow/bert_en_uncased_preprocess/3',\n",
    "    'small_bert/bert_en_uncased_L-12_H-128_A-2':\n",
    "        'https://tfhub.dev/tensorflow/bert_en_uncased_preprocess/3',\n",
    "    'small_bert/bert_en_uncased_L-12_H-256_A-4':\n",
    "        'https://tfhub.dev/tensorflow/bert_en_uncased_preprocess/3',\n",
    "    'small_bert/bert_en_uncased_L-12_H-512_A-8':\n",
    "        'https://tfhub.dev/tensorflow/bert_en_uncased_preprocess/3',\n",
    "    'small_bert/bert_en_uncased_L-12_H-768_A-12':\n",
    "        'https://tfhub.dev/tensorflow/bert_en_uncased_preprocess/3',\n",
    "    'bert_multi_cased_L-12_H-768_A-12':\n",
    "        'https://tfhub.dev/tensorflow/bert_multi_cased_preprocess/3',\n",
    "    'albert_en_base':\n",
    "        'https://tfhub.dev/tensorflow/albert_en_preprocess/3',\n",
    "    'electra_small':\n",
    "        'https://tfhub.dev/tensorflow/bert_en_uncased_preprocess/3',\n",
    "    'electra_base':\n",
    "        'https://tfhub.dev/tensorflow/bert_en_uncased_preprocess/3',\n",
    "    'experts_pubmed':\n",
    "        'https://tfhub.dev/tensorflow/bert_en_uncased_preprocess/3',\n",
    "    'experts_wiki_books':\n",
    "        'https://tfhub.dev/tensorflow/bert_en_uncased_preprocess/3',\n",
    "    'talking-heads_base':\n",
    "        'https://tfhub.dev/tensorflow/bert_en_uncased_preprocess/3',\n",
    "}\n",
    "\n",
    "tfhub_handle_encoder = map_name_to_handle[bert_model_name]\n",
    "tfhub_handle_preprocess = map_model_to_preprocess[bert_model_name]\n",
    "\n",
    "print(f'BERT model selected           : {tfhub_handle_encoder}')\n",
    "print(f'Preprocess model auto-selected: {tfhub_handle_preprocess}')"
   ]
  },
  {
   "cell_type": "code",
   "execution_count": 48,
   "id": "bulgarian-religion",
   "metadata": {},
   "outputs": [
    {
     "name": "stderr",
     "output_type": "stream",
     "text": [
      "INFO:absl:Using /tmp/tfhub_modules to cache modules.\n"
     ]
    }
   ],
   "source": [
    "bert_preprocess_model = hub.KerasLayer(tfhub_handle_preprocess)"
   ]
  },
  {
   "cell_type": "code",
   "execution_count": 49,
   "id": "trained-nigeria",
   "metadata": {},
   "outputs": [
    {
     "name": "stdout",
     "output_type": "stream",
     "text": [
      "Keys       : ['input_type_ids', 'input_mask', 'input_word_ids']\n",
      "Shape      : (1, 128)\n",
      "Word Ids   : [  101  2129  2000 18422  1002  1032  8785 10322  1063  1062  1065  1031]\n",
      "Input Mask : [1 1 1 1 1 1 1 1 1 1 1 1]\n",
      "Type Ids   : [0 0 0 0 0 0 0 0 0 0 0 0]\n"
     ]
    }
   ],
   "source": [
    "text_test = ['How to calculate $ \\\\mathbb{Z}[x] /\\\\langle2x-1\\\\rangle $?']\n",
    "text_preprocessed = bert_preprocess_model(text_test)\n",
    "\n",
    "print(f'Keys       : {list(text_preprocessed.keys())}')\n",
    "print(f'Shape      : {text_preprocessed[\"input_word_ids\"].shape}')\n",
    "print(f'Word Ids   : {text_preprocessed[\"input_word_ids\"][0, :12]}')\n",
    "print(f'Input Mask : {text_preprocessed[\"input_mask\"][0, :12]}')\n",
    "print(f'Type Ids   : {text_preprocessed[\"input_type_ids\"][0, :12]}')"
   ]
  },
  {
   "cell_type": "code",
   "execution_count": 50,
   "id": "spanish-accuracy",
   "metadata": {},
   "outputs": [],
   "source": [
    "bert_model = hub.KerasLayer(tfhub_handle_encoder)"
   ]
  },
  {
   "cell_type": "code",
   "execution_count": 51,
   "id": "automated-senator",
   "metadata": {},
   "outputs": [
    {
     "name": "stdout",
     "output_type": "stream",
     "text": [
      "Loaded BERT: https://tfhub.dev/google/electra_small/2\n",
      "Pooled Outputs Shape:(1, 256)\n",
      "Pooled Outputs Values:[-0.72477484  0.6809698  -0.39734    -0.3955259   0.62060785  0.67219\n",
      "  0.9177327   0.956274    0.25563103  0.62697214 -0.46784523 -0.59668225]\n",
      "Sequence Outputs Shape:(1, 128, 256)\n",
      "Sequence Outputs Values:[[-0.91763103  0.83092016 -0.4204863  ...  1.4840637  -0.953829\n",
      "   0.4283726 ]\n",
      " [ 0.11150239 -0.7992214  -0.7701465  ...  0.17320415  0.7740885\n",
      "   0.604264  ]\n",
      " [ 0.20649894 -0.13375399 -0.6381452  ... -0.31388146  0.06313606\n",
      "   0.7871695 ]\n",
      " ...\n",
      " [ 0.37578183 -0.7784546  -0.32506758 ...  0.5195869  -0.23459892\n",
      "   0.13379887]\n",
      " [-0.03044392 -0.5364127  -0.18415692 ... -0.14017026 -1.0072703\n",
      "   0.25326577]\n",
      " [-0.05187959 -0.9360568   0.5809163  ...  0.49485448 -1.3509554\n",
      "   0.6204972 ]]\n"
     ]
    }
   ],
   "source": [
    "bert_results = bert_model(text_preprocessed)\n",
    "\n",
    "print(f'Loaded BERT: {tfhub_handle_encoder}')\n",
    "print(f'Pooled Outputs Shape:{bert_results[\"pooled_output\"].shape}')\n",
    "print(f'Pooled Outputs Values:{bert_results[\"pooled_output\"][0, :12]}')\n",
    "print(f'Sequence Outputs Shape:{bert_results[\"sequence_output\"].shape}')\n",
    "print(f'Sequence Outputs Values:{bert_results[\"sequence_output\"][0, :12]}')"
   ]
  },
  {
   "cell_type": "code",
   "execution_count": 97,
   "id": "female-police",
   "metadata": {},
   "outputs": [],
   "source": [
    "def build_classifier_model():\n",
    "    \n",
    "    text_input = tf.keras.layers.Input(shape=(), dtype=tf.string, name='text')\n",
    "    preprocessing_layer = hub.KerasLayer(tfhub_handle_preprocess, name='preprocessing')\n",
    "    encoder_inputs = preprocessing_layer(text_input)\n",
    "    encoder = hub.KerasLayer(tfhub_handle_encoder, trainable=True, name='BERT_encoder')\n",
    "    outputs = encoder(encoder_inputs)\n",
    "    net = outputs['pooled_output']\n",
    "#     net = tf.keras.layers.Dense(256, activation='relu')(net)\n",
    "    net = tf.keras.layers.Dropout(0.3)(net)\n",
    "    net = tf.keras.layers.Dense(num_classes, activation='softmax', name='classifier')(net)\n",
    "    \n",
    "    return tf.keras.Model(text_input, net)"
   ]
  },
  {
   "cell_type": "code",
   "execution_count": 98,
   "id": "secondary-tournament",
   "metadata": {},
   "outputs": [
    {
     "name": "stdout",
     "output_type": "stream",
     "text": [
      "tf.Tensor([[0.18194102 0.0400969  0.7779621 ]], shape=(1, 3), dtype=float32)\n"
     ]
    }
   ],
   "source": [
    "# classifier_model = tf.keras.models.load_model(\"../models/30ksampling_weighted_42k_electra_base_epoch_1\", compile=False)\n",
    "\n",
    "classifier_model = build_classifier_model()\n",
    "bert_raw_result = classifier_model(tf.constant(text_test))\n",
    "print(bert_raw_result)"
   ]
  },
  {
   "cell_type": "code",
   "execution_count": 99,
   "id": "fabulous-upset",
   "metadata": {},
   "outputs": [
    {
     "name": "stderr",
     "output_type": "stream",
     "text": [
      "INFO:absl:using Adamw optimizer\n",
      "INFO:absl:gradient_clip_norm=1.000000\n"
     ]
    }
   ],
   "source": [
    "epochs = 8\n",
    "steps_per_epoch = tf.data.experimental.cardinality(train_ds).numpy()\n",
    "num_train_steps = steps_per_epoch * epochs\n",
    "num_warmup_steps = int(0.1 * num_train_steps)\n",
    "\n",
    "init_lr = 3e-5\n",
    "optimizer = optimization.create_optimizer(\n",
    "    init_lr=init_lr,\n",
    "    num_train_steps=num_train_steps,\n",
    "    num_warmup_steps=num_warmup_steps,\n",
    "    optimizer_type='adamw'\n",
    ")"
   ]
  },
  {
   "cell_type": "code",
   "execution_count": 104,
   "id": "complete-society",
   "metadata": {},
   "outputs": [],
   "source": [
    "from focal_loss import SparseCategoricalFocalLoss\n",
    "loss = SparseCategoricalFocalLoss(gamma=3)\n",
    "\n",
    "metrics = [\n",
    "    tf.keras.metrics.SparseCategoricalAccuracy('accuracy', dtype=tf.float32)\n",
    "]"
   ]
  },
  {
   "cell_type": "code",
   "execution_count": 105,
   "id": "nasty-appreciation",
   "metadata": {},
   "outputs": [],
   "source": [
    "classifier_model.compile(\n",
    "    optimizer=optimizer,\n",
    "    loss=loss,\n",
    "    metrics=metrics\n",
    ")"
   ]
  },
  {
   "cell_type": "code",
   "execution_count": 106,
   "id": "freelance-pickup",
   "metadata": {},
   "outputs": [],
   "source": [
    "callbacks = tf.keras.callbacks.EarlyStopping(monitor='val_loss', patience=3, mode='auto', restore_best_weights=True)"
   ]
  },
  {
   "cell_type": "code",
   "execution_count": 107,
   "id": "decimal-naples",
   "metadata": {},
   "outputs": [
    {
     "name": "stdout",
     "output_type": "stream",
     "text": [
      "Model: \"model_2\"\n",
      "__________________________________________________________________________________________________\n",
      "Layer (type)                    Output Shape         Param #     Connected to                     \n",
      "==================================================================================================\n",
      "text (InputLayer)               [(None,)]            0                                            \n",
      "__________________________________________________________________________________________________\n",
      "preprocessing (KerasLayer)      {'input_type_ids': ( 0           text[0][0]                       \n",
      "__________________________________________________________________________________________________\n",
      "BERT_encoder (KerasLayer)       {'pooled_output': (N 13548801    preprocessing[0][0]              \n",
      "                                                                 preprocessing[0][1]              \n",
      "                                                                 preprocessing[0][2]              \n",
      "__________________________________________________________________________________________________\n",
      "dropout_2 (Dropout)             (None, 256)          0           BERT_encoder[0][13]              \n",
      "__________________________________________________________________________________________________\n",
      "classifier (Dense)              (None, 3)            771         dropout_2[0][0]                  \n",
      "==================================================================================================\n",
      "Total params: 13,549,572\n",
      "Trainable params: 13,549,571\n",
      "Non-trainable params: 1\n",
      "__________________________________________________________________________________________________\n"
     ]
    }
   ],
   "source": [
    "classifier_model.summary()"
   ]
  },
  {
   "cell_type": "markdown",
   "id": "obvious-translator",
   "metadata": {},
   "source": [
    "## Training"
   ]
  },
  {
   "cell_type": "code",
   "execution_count": 108,
   "id": "immediate-creativity",
   "metadata": {
    "tags": []
   },
   "outputs": [
    {
     "name": "stdout",
     "output_type": "stream",
     "text": [
      "Training model with https://tfhub.dev/google/electra_small/2\n",
      "Epoch 1/8\n",
      "269/269 [==============================] - 49s 114ms/step - loss: 0.7262 - accuracy: 0.3368 - val_loss: 0.2776 - val_accuracy: 0.5512\n",
      "Epoch 2/8\n",
      "269/269 [==============================] - 30s 110ms/step - loss: 0.3506 - accuracy: 0.5468 - val_loss: 0.2419 - val_accuracy: 0.6378\n",
      "Epoch 3/8\n",
      "269/269 [==============================] - 30s 110ms/step - loss: 0.2135 - accuracy: 0.7150 - val_loss: 0.1895 - val_accuracy: 0.7087\n",
      "Epoch 4/8\n",
      "269/269 [==============================] - 30s 111ms/step - loss: 0.1027 - accuracy: 0.8331 - val_loss: 0.2081 - val_accuracy: 0.7205\n",
      "Epoch 5/8\n",
      "269/269 [==============================] - 30s 112ms/step - loss: 0.0653 - accuracy: 0.8859 - val_loss: 0.1490 - val_accuracy: 0.7795\n",
      "Epoch 6/8\n",
      "269/269 [==============================] - 30s 110ms/step - loss: 0.0343 - accuracy: 0.9344 - val_loss: 0.1165 - val_accuracy: 0.8465\n",
      "Epoch 7/8\n",
      "269/269 [==============================] - 30s 112ms/step - loss: 0.0210 - accuracy: 0.9609 - val_loss: 0.1230 - val_accuracy: 0.8346\n",
      "Epoch 8/8\n",
      "269/269 [==============================] - 30s 111ms/step - loss: 0.0141 - accuracy: 0.9767 - val_loss: 0.0688 - val_accuracy: 0.8780\n"
     ]
    }
   ],
   "source": [
    "print(f'Training model with {tfhub_handle_encoder}')\n",
    "\n",
    "history = classifier_model.fit(\n",
    "    x=train_ds,\n",
    "    epochs=epochs,\n",
    "    validation_data=val_ds,\n",
    "    class_weight=class_weights,\n",
    "    callbacks=[callbacks]\n",
    ")\n",
    "\n",
    "# classifier_model.save(\"../models/electra_small\", include_optimizer=False)"
   ]
  },
  {
   "cell_type": "markdown",
   "id": "recent-bacon",
   "metadata": {},
   "source": [
    "## Evaluation"
   ]
  },
  {
   "cell_type": "code",
   "execution_count": 109,
   "id": "respective-humidity",
   "metadata": {
    "tags": []
   },
   "outputs": [
    {
     "name": "stdout",
     "output_type": "stream",
     "text": [
      "16/16 [==============================] - 1s 36ms/step - loss: 0.0688 - accuracy: 0.8780\n",
      "Loss: 0.06876272708177567\n",
      "Accuracy: 0.8779527544975281\n"
     ]
    }
   ],
   "source": [
    "loss, accuracy = classifier_model.evaluate(val_ds)\n",
    "\n",
    "print(f'Loss: {loss}')\n",
    "print(f'Accuracy: {accuracy}')"
   ]
  },
  {
   "cell_type": "code",
   "execution_count": 110,
   "id": "confused-determination",
   "metadata": {},
   "outputs": [
    {
     "name": "stdout",
     "output_type": "stream",
     "text": [
      "dict_keys(['loss', 'accuracy', 'val_loss', 'val_accuracy'])\n"
     ]
    },
    {
     "data": {
      "text/plain": [
       "<matplotlib.legend.Legend at 0x7fb442256550>"
      ]
     },
     "execution_count": 110,
     "metadata": {},
     "output_type": "execute_result"
    },
    {
     "data": {
      "image/png": "[encoded data removed]",
      "text/plain": [
       "<Figure size 720x432 with 2 Axes>"
      ]
     },
     "metadata": {
      "needs_background": "light"
     },
     "output_type": "display_data"
    }
   ],
   "source": [
    "history_dict = history.history\n",
    "print(history_dict.keys())\n",
    "\n",
    "acc = history_dict['accuracy']\n",
    "val_acc = history_dict['val_accuracy']\n",
    "loss = history_dict['loss']\n",
    "val_loss = history_dict['val_loss']\n",
    "\n",
    "epochs = range(1, len(acc) + 1)\n",
    "fig = plt.figure(figsize=(10, 6))\n",
    "fig.tight_layout()\n",
    "\n",
    "plt.subplot(2, 1, 1)\n",
    "# \"bo\" is for \"blue dot\"\n",
    "plt.plot(epochs, loss, 'r', label='Training loss')\n",
    "# b is for \"solid blue line\"\n",
    "plt.plot(epochs, val_loss, 'b', label='Validation loss')\n",
    "plt.title('Training and validation loss')\n",
    "# plt.xlabel('Epochs')\n",
    "plt.ylabel('Loss')\n",
    "plt.legend()\n",
    "\n",
    "plt.subplot(2, 1, 2)\n",
    "plt.plot(epochs, acc, 'r', label='Training acc')\n",
    "plt.plot(epochs, val_acc, 'b', label='Validation acc')\n",
    "plt.title('Training and validation accuracy')\n",
    "plt.xlabel('Epochs')\n",
    "plt.ylabel('Accuracy')\n",
    "plt.legend(loc='lower right')"
   ]
  },
  {
   "cell_type": "code",
   "execution_count": 111,
   "id": "radical-isaac",
   "metadata": {},
   "outputs": [
    {
     "name": "stdout",
     "output_type": "stream",
     "text": [
      "CPU times: user 1.78 s, sys: 130 ms, total: 1.91 s\n",
      "Wall time: 1.36 s\n"
     ]
    }
   ],
   "source": [
    "%%time\n",
    "results = classifier_model.predict(val_ds)"
   ]
  },
  {
   "cell_type": "code",
   "execution_count": 112,
   "id": "electronic-announcement",
   "metadata": {},
   "outputs": [],
   "source": [
    "y_pred = np.array(tf.argmax(results, axis=1))\n",
    "y_true = np.concatenate([np.array(x[1]) for x in val_ds])"
   ]
  },
  {
   "cell_type": "code",
   "execution_count": 113,
   "id": "unnecessary-ordering",
   "metadata": {},
   "outputs": [
    {
     "data": {
      "text/plain": [
       "0.8623285795634873"
      ]
     },
     "execution_count": 113,
     "metadata": {},
     "output_type": "execute_result"
    }
   ],
   "source": [
    "from sklearn.metrics import f1_score\n",
    "\n",
    "f1_score(y_true, y_pred, average='macro')"
   ]
  },
  {
   "cell_type": "code",
   "execution_count": 114,
   "id": "prompt-brother",
   "metadata": {},
   "outputs": [
    {
     "name": "stdout",
     "output_type": "stream",
     "text": [
      "              precision    recall  f1-score   support\n",
      "\n",
      "           0       0.97      0.86      0.91       159\n",
      "           1       0.76      0.89      0.82        64\n",
      "           2       0.77      0.97      0.86        31\n",
      "\n",
      "    accuracy                           0.88       254\n",
      "   macro avg       0.83      0.90      0.86       254\n",
      "weighted avg       0.89      0.88      0.88       254\n",
      "\n"
     ]
    }
   ],
   "source": [
    "from sklearn.metrics import classification_report, confusion_matrix\n",
    "\n",
    "print(classification_report(y_true, y_pred))"
   ]
  },
  {
   "cell_type": "code",
   "execution_count": 115,
   "id": "combined-preservation",
   "metadata": {},
   "outputs": [
    {
     "data": {
      "text/plain": [
       "array([[136,  17,   6],\n",
       "       [  4,  57,   3],\n",
       "       [  0,   1,  30]])"
      ]
     },
     "execution_count": 115,
     "metadata": {},
     "output_type": "execute_result"
    }
   ],
   "source": [
    "confusion_matrix(y_true, y_pred)"
   ]
  },
  {
   "cell_type": "code",
   "execution_count": null,
   "id": "embedded-slope",
   "metadata": {},
   "outputs": [],
   "source": []
  },
  {
   "cell_type": "markdown",
   "id": "tamil-gauge",
   "metadata": {},
   "source": [
    "## Testing"
   ]
  },
  {
   "cell_type": "code",
   "execution_count": 116,
   "id": "voluntary-masters",
   "metadata": {},
   "outputs": [],
   "source": [
    "def get_classification(logits):\n",
    "    return np.array(tf.argmax(logits, axis=1))"
   ]
  },
  {
   "cell_type": "code",
   "execution_count": 117,
   "id": "elder-participation",
   "metadata": {},
   "outputs": [],
   "source": [
    "test_df = pd.read_csv(\"../data/test.csv\")\n",
    "test_df['Outcome'] = test_df['Outcome'].astype(int)"
   ]
  },
  {
   "cell_type": "code",
   "execution_count": 118,
   "id": "historical-university",
   "metadata": {},
   "outputs": [
    {
     "data": {
      "application/vnd.jupyter.widget-view+json": {
       "model_id": "4920df75d87d49b3ad2fd57f71b702d5",
       "version_major": 2,
       "version_minor": 0
      },
      "text/plain": [
       "  0%|          | 0/318 [00:00<?, ?it/s]"
      ]
     },
     "metadata": {},
     "output_type": "display_data"
    }
   ],
   "source": [
    "test_df['cleaned'] = [pipeline(x) for x in tqdm(test_df['Text'])]\n",
    "\n",
    "test_ds = tf.data.Dataset.from_tensor_slices(\n",
    "    (test_df['cleaned'].values, test_df['Outcome'].values)\n",
    ").batch(batch_size, drop_remainder=False)\n",
    "\n",
    "test_ds = test_ds.cache().prefetch(buffer_size=AUTOTUNE)"
   ]
  },
  {
   "cell_type": "code",
   "execution_count": 119,
   "id": "convertible-accident",
   "metadata": {},
   "outputs": [
    {
     "name": "stdout",
     "output_type": "stream",
     "text": [
      "CPU times: user 1.14 s, sys: 123 ms, total: 1.26 s\n",
      "Wall time: 599 ms\n"
     ]
    }
   ],
   "source": [
    "%%time\n",
    "test_pred = classifier_model.predict(test_ds)\n",
    "y_pred = get_classification(test_pred)\n",
    "y_true = np.concatenate([np.array(x[1]) for x in test_ds])"
   ]
  },
  {
   "cell_type": "code",
   "execution_count": 120,
   "id": "august-portsmouth",
   "metadata": {},
   "outputs": [
    {
     "data": {
      "text/plain": [
       "0.5933006535947712"
      ]
     },
     "execution_count": 120,
     "metadata": {},
     "output_type": "execute_result"
    }
   ],
   "source": [
    "f1_score(y_true, y_pred, average='macro')"
   ]
  },
  {
   "cell_type": "code",
   "execution_count": 121,
   "id": "protective-england",
   "metadata": {},
   "outputs": [
    {
     "name": "stdout",
     "output_type": "stream",
     "text": [
      "              precision    recall  f1-score   support\n",
      "\n",
      "           0       0.82      0.76      0.79       199\n",
      "           1       0.51      0.69      0.59        80\n",
      "           2       0.50      0.33      0.40        39\n",
      "\n",
      "    accuracy                           0.69       318\n",
      "   macro avg       0.61      0.59      0.59       318\n",
      "weighted avg       0.70      0.69      0.69       318\n",
      "\n"
     ]
    }
   ],
   "source": [
    "print(classification_report(y_true, y_pred))"
   ]
  },
  {
   "cell_type": "code",
   "execution_count": 122,
   "id": "every-assault",
   "metadata": {},
   "outputs": [
    {
     "data": {
      "text/plain": [
       "array([[152,  38,   9],\n",
       "       [ 21,  55,   4],\n",
       "       [ 12,  14,  13]])"
      ]
     },
     "execution_count": 122,
     "metadata": {},
     "output_type": "execute_result"
    }
   ],
   "source": [
    "confusion_matrix(y_true, y_pred)"
   ]
  },
  {
   "cell_type": "code",
   "execution_count": null,
   "id": "infrared-split",
   "metadata": {},
   "outputs": [],
   "source": []
  },
  {
   "cell_type": "code",
   "execution_count": null,
   "id": "devoted-collaboration",
   "metadata": {},
   "outputs": [],
   "source": []
  },
  {
   "cell_type": "code",
   "execution_count": null,
   "id": "appropriate-peeing",
   "metadata": {},
   "outputs": [],
   "source": []
  }
 ],
 "metadata": {
  "kernelspec": {
   "display_name": "Python 3",
   "language": "python",
   "name": "python3"
  },
  "language_info": {
   "codemirror_mode": {
    "name": "ipython",
    "version": 3
   },
   "file_extension": ".py",
   "mimetype": "text/x-python",
   "name": "python",
   "nbconvert_exporter": "python",
   "pygments_lexer": "ipython3",
   "version": "3.7.9"
  }
 },
 "nbformat": 4,
 "nbformat_minor": 5
}
