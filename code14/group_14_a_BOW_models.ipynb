{
 "cells": [
  {
   "cell_type": "markdown",
   "metadata": {},
   "source": [
    "# BT5153 Reddit post classification - BOW Models"
   ]
  },
  {
   "cell_type": "code",
   "execution_count": 1,
   "metadata": {},
   "outputs": [],
   "source": [
    "import pandas as pd \n",
    "import numpy as np \n",
    "from sklearn import decomposition, ensemble\n",
    "import textblob, string\n",
    "import nltk\n",
    "from nltk.corpus import stopwords\n",
    "from nltk.stem import WordNetLemmatizer\n",
    "from collections import Counter\n",
    "import re\n",
    "import matplotlib.pyplot as plt\n",
    "import warnings\n",
    "warnings.filterwarnings(\"ignore\")\n",
    "import imblearn\n",
    "from imblearn.over_sampling import SMOTE\n",
    "from tqdm import tqdm\n",
    "tqdm.pandas()"
   ]
  },
  {
   "cell_type": "code",
   "execution_count": 2,
   "metadata": {},
   "outputs": [
    {
     "name": "stderr",
     "output_type": "stream",
     "text": [
      "[nltk_data] Downloading package stopwords to\n",
      "[nltk_data]     C:\\Users\\Ananth\\AppData\\Roaming\\nltk_data...\n",
      "[nltk_data]   Package stopwords is already up-to-date!\n",
      "[nltk_data] Downloading package wordnet to\n",
      "[nltk_data]     C:\\Users\\Ananth\\AppData\\Roaming\\nltk_data...\n",
      "[nltk_data]   Package wordnet is already up-to-date!\n",
      "[nltk_data] Downloading package punkt to\n",
      "[nltk_data]     C:\\Users\\Ananth\\AppData\\Roaming\\nltk_data...\n",
      "[nltk_data]   Package punkt is already up-to-date!\n",
      "[nltk_data] Downloading package vader_lexicon to\n",
      "[nltk_data]     C:\\Users\\Ananth\\AppData\\Roaming\\nltk_data...\n",
      "[nltk_data]   Package vader_lexicon is already up-to-date!\n"
     ]
    },
    {
     "data": {
      "text/plain": [
       "True"
      ]
     },
     "execution_count": 2,
     "metadata": {},
     "output_type": "execute_result"
    }
   ],
   "source": [
    "nltk.download('stopwords')\n",
    "stop_words = set(stopwords.words('english'))\n",
    "nltk.download('wordnet')\n",
    "nltk.download('punkt')\n",
    "nltk.download('vader_lexicon')"
   ]
  },
  {
   "cell_type": "markdown",
   "metadata": {},
   "source": [
    "## 1. Read the Data"
   ]
  },
  {
   "cell_type": "code",
   "execution_count": 3,
   "metadata": {},
   "outputs": [
    {
     "name": "stdout",
     "output_type": "stream",
     "text": [
      "Shape of train data: (1269, 6)\n"
     ]
    },
    {
     "data": {
      "text/html": [
       "<div>\n",
       "<style scoped>\n",
       "    .dataframe tbody tr th:only-of-type {\n",
       "        vertical-align: middle;\n",
       "    }\n",
       "\n",
       "    .dataframe tbody tr th {\n",
       "        vertical-align: top;\n",
       "    }\n",
       "\n",
       "    .dataframe thead th {\n",
       "        text-align: right;\n",
       "    }\n",
       "</style>\n",
       "<table border=\"1\" class=\"dataframe\">\n",
       "  <thead>\n",
       "    <tr style=\"text-align: right;\">\n",
       "      <th></th>\n",
       "      <th>author</th>\n",
       "      <th>postdate</th>\n",
       "      <th>subreddit</th>\n",
       "      <th>Text</th>\n",
       "      <th>Word_count</th>\n",
       "      <th>Outcome</th>\n",
       "    </tr>\n",
       "  </thead>\n",
       "  <tbody>\n",
       "    <tr>\n",
       "      <th>0</th>\n",
       "      <td>TFDP117</td>\n",
       "      <td>2020-07-03 03:02:00</td>\n",
       "      <td>suicide watch</td>\n",
       "      <td>My family and friends are the only thing keepi...</td>\n",
       "      <td>25</td>\n",
       "      <td>1.0</td>\n",
       "    </tr>\n",
       "    <tr>\n",
       "      <th>1</th>\n",
       "      <td>jaleel364</td>\n",
       "      <td>2020-02-14 08:28:00</td>\n",
       "      <td>confession</td>\n",
       "      <td>I’m the guy who puts food in random places in ...</td>\n",
       "      <td>27</td>\n",
       "      <td>0.0</td>\n",
       "    </tr>\n",
       "    <tr>\n",
       "      <th>2</th>\n",
       "      <td>mabbers110</td>\n",
       "      <td>2020-03-16 07:47:00</td>\n",
       "      <td>depression</td>\n",
       "      <td>Has anyone here had their life completely turn...</td>\n",
       "      <td>126</td>\n",
       "      <td>0.0</td>\n",
       "    </tr>\n",
       "    <tr>\n",
       "      <th>3</th>\n",
       "      <td>AdrianaAura-</td>\n",
       "      <td>2020-08-03 12:44:00</td>\n",
       "      <td>suicide watch</td>\n",
       "      <td>i'm so tired and cold i'm tired\\n\\nand i just ...</td>\n",
       "      <td>42</td>\n",
       "      <td>1.0</td>\n",
       "    </tr>\n",
       "    <tr>\n",
       "      <th>4</th>\n",
       "      <td>vizzy111</td>\n",
       "      <td>2020-03-24 17:05:00</td>\n",
       "      <td>suicide watch</td>\n",
       "      <td>They said ma days are numbered, but I keep wak...</td>\n",
       "      <td>23</td>\n",
       "      <td>0.0</td>\n",
       "    </tr>\n",
       "  </tbody>\n",
       "</table>\n",
       "</div>"
      ],
      "text/plain": [
       "         author             postdate      subreddit  \\\n",
       "0       TFDP117  2020-07-03 03:02:00  suicide watch   \n",
       "1     jaleel364  2020-02-14 08:28:00     confession   \n",
       "2    mabbers110  2020-03-16 07:47:00     depression   \n",
       "3  AdrianaAura-  2020-08-03 12:44:00  suicide watch   \n",
       "4      vizzy111  2020-03-24 17:05:00  suicide watch   \n",
       "\n",
       "                                                Text  Word_count  Outcome  \n",
       "0  My family and friends are the only thing keepi...          25      1.0  \n",
       "1  I’m the guy who puts food in random places in ...          27      0.0  \n",
       "2  Has anyone here had their life completely turn...         126      0.0  \n",
       "3  i'm so tired and cold i'm tired\\n\\nand i just ...          42      1.0  \n",
       "4  They said ma days are numbered, but I keep wak...          23      0.0  "
      ]
     },
     "execution_count": 3,
     "metadata": {},
     "output_type": "execute_result"
    }
   ],
   "source": [
    "df_train = pd.read_csv('Data Train and Test/reddit_train.csv')\n",
    "df_train.drop(columns='Unnamed: 0', inplace=True)\n",
    "print('Shape of train data:',df_train.shape)\n",
    "df_train.head()"
   ]
  },
  {
   "cell_type": "code",
   "execution_count": 4,
   "metadata": {},
   "outputs": [
    {
     "name": "stdout",
     "output_type": "stream",
     "text": [
      "Shape of train data: (318, 6)\n"
     ]
    },
    {
     "data": {
      "text/html": [
       "<div>\n",
       "<style scoped>\n",
       "    .dataframe tbody tr th:only-of-type {\n",
       "        vertical-align: middle;\n",
       "    }\n",
       "\n",
       "    .dataframe tbody tr th {\n",
       "        vertical-align: top;\n",
       "    }\n",
       "\n",
       "    .dataframe thead th {\n",
       "        text-align: right;\n",
       "    }\n",
       "</style>\n",
       "<table border=\"1\" class=\"dataframe\">\n",
       "  <thead>\n",
       "    <tr style=\"text-align: right;\">\n",
       "      <th></th>\n",
       "      <th>author</th>\n",
       "      <th>postdate</th>\n",
       "      <th>subreddit</th>\n",
       "      <th>Text</th>\n",
       "      <th>Word_count</th>\n",
       "      <th>Outcome</th>\n",
       "    </tr>\n",
       "  </thead>\n",
       "  <tbody>\n",
       "    <tr>\n",
       "      <th>0</th>\n",
       "      <td>ASOBITAIx4</td>\n",
       "      <td>2020-03-28 03:44:00</td>\n",
       "      <td>confession</td>\n",
       "      <td>My boss said I have a good work ethic when I s...</td>\n",
       "      <td>60</td>\n",
       "      <td>0.0</td>\n",
       "    </tr>\n",
       "    <tr>\n",
       "      <th>1</th>\n",
       "      <td>crushedweek</td>\n",
       "      <td>2020-03-27 17:19:00</td>\n",
       "      <td>depression</td>\n",
       "      <td>I feel like I'm not depressed I don't have a r...</td>\n",
       "      <td>134</td>\n",
       "      <td>1.0</td>\n",
       "    </tr>\n",
       "    <tr>\n",
       "      <th>2</th>\n",
       "      <td>tylermufc10</td>\n",
       "      <td>2020-02-27 07:50:00</td>\n",
       "      <td>confession</td>\n",
       "      <td>I used to snort sherbert from the corner shop ...</td>\n",
       "      <td>58</td>\n",
       "      <td>0.0</td>\n",
       "    </tr>\n",
       "    <tr>\n",
       "      <th>3</th>\n",
       "      <td>BleachtrumpsNaruto</td>\n",
       "      <td>2020-09-02 04:52:00</td>\n",
       "      <td>confession</td>\n",
       "      <td>I caused someone to die because of a seemingly...</td>\n",
       "      <td>201</td>\n",
       "      <td>0.0</td>\n",
       "    </tr>\n",
       "    <tr>\n",
       "      <th>4</th>\n",
       "      <td>Nillend</td>\n",
       "      <td>2020-03-30 05:44:00</td>\n",
       "      <td>depression</td>\n",
       "      <td>I often wonder why do I even bother Nothing I ...</td>\n",
       "      <td>24</td>\n",
       "      <td>0.0</td>\n",
       "    </tr>\n",
       "  </tbody>\n",
       "</table>\n",
       "</div>"
      ],
      "text/plain": [
       "               author             postdate   subreddit  \\\n",
       "0          ASOBITAIx4  2020-03-28 03:44:00  confession   \n",
       "1         crushedweek  2020-03-27 17:19:00  depression   \n",
       "2         tylermufc10  2020-02-27 07:50:00  confession   \n",
       "3  BleachtrumpsNaruto  2020-09-02 04:52:00  confession   \n",
       "4             Nillend  2020-03-30 05:44:00  depression   \n",
       "\n",
       "                                                Text  Word_count  Outcome  \n",
       "0  My boss said I have a good work ethic when I s...          60      0.0  \n",
       "1  I feel like I'm not depressed I don't have a r...         134      1.0  \n",
       "2  I used to snort sherbert from the corner shop ...          58      0.0  \n",
       "3  I caused someone to die because of a seemingly...         201      0.0  \n",
       "4  I often wonder why do I even bother Nothing I ...          24      0.0  "
      ]
     },
     "execution_count": 4,
     "metadata": {},
     "output_type": "execute_result"
    }
   ],
   "source": [
    "df_test = pd.read_csv('Data Train and Test/reddit_test.csv')\n",
    "df_test.drop(columns='Unnamed: 0', inplace=True)\n",
    "print('Shape of train data:',df_test.shape)\n",
    "df_test.head()"
   ]
  },
  {
   "cell_type": "code",
   "execution_count": 5,
   "metadata": {},
   "outputs": [
    {
     "name": "stdout",
     "output_type": "stream",
     "text": [
      "Class: 0\n",
      "0     I’m the guy who puts food in random places in ...\n",
      "1     Has anyone here had their life completely turn...\n",
      "2     They said ma days are numbered, but I keep wak...\n",
      "3     I don’t know how to deal with this on my own w...\n",
      "4     Fat People who buy supersized orders and then ...\n",
      "5     2020 2020 is arguably the worst year for the W...\n",
      "6     It feels like something is out to get me. No m...\n",
      "7     How much does a hospital stay for suicide watc...\n",
      "8     Never had a girlfriend I think i am gona die a...\n",
      "9     I lied to get a job When I was 23 I got a job ...\n",
      "10    When I was a teenager, I found my mum in a mag...\n",
      "Name: Text, dtype: object\n",
      "--------------------\n",
      "Class: 1\n",
      "0     My family and friends are the only thing keepi...\n",
      "1     i'm so tired and cold i'm tired\\n\\nand i just ...\n",
      "2     I'm lonely and nobody is there for me I've bee...\n",
      "3     I want to disappear It's been 5 years of inter...\n",
      "4     I felt better for a few months; now I'm worse ...\n",
      "5     Lost I'm writing here because I have nowhere e...\n",
      "6     Suicide I’m so depressed I can’t take it anymo...\n",
      "7     Suicide V2K I've been targeted with electronic...\n",
      "8     I don’t feel anything I don’t know anymore I’m...\n",
      "9     What's the point of even being alive anymore? ...\n",
      "10    Why I know everything is good on my life..\\n\\n...\n",
      "Name: Text, dtype: object\n",
      "--------------------\n",
      "Class: 2\n",
      "0     Constantly suicidal I'm 26 and I have generali...\n",
      "1     Bye guys I think I made my choice. \\nI realize...\n",
      "2     Yeah, it's true, there's really no hope left n...\n",
      "3     Unemployed, deeply in debt, stupid, lazy, self...\n",
      "4     help? i broke my ankle on my birthday in decem...\n",
      "5     Life savings wiped out because of coronavirus....\n",
      "6     I will give it one more week Next Sunday I wil...\n",
      "7     My family is the only thing keeping me alive. ...\n",
      "8     Easiest way to end it? I think hanging &amp; g...\n",
      "9     I'm looking to end my life any suggestions are...\n",
      "10    I'm sorry. Just sitting here on my bed. I thou...\n",
      "Name: Text, dtype: object\n",
      "--------------------\n"
     ]
    }
   ],
   "source": [
    "#View sample posts\n",
    "outcome = [0,1,2]\n",
    "\n",
    "for x in outcome:\n",
    "    print('Class:',x)\n",
    "    tmp = df_train.loc[df_train['Outcome']==x]\n",
    "    tmp.reset_index(inplace=True)\n",
    "    print(tmp.loc[0:10,'Text'])\n",
    "    print(20*'-')"
   ]
  },
  {
   "cell_type": "code",
   "execution_count": 6,
   "metadata": {},
   "outputs": [
    {
     "data": {
      "image/png": "[encoded data removed]",
      "text/plain": [
       "<Figure size 432x288 with 1 Axes>"
      ]
     },
     "metadata": {
      "needs_background": "light"
     },
     "output_type": "display_data"
    }
   ],
   "source": [
    "#Distribution of target variable\n",
    "df_train.Outcome.hist()\n",
    "plt.title('Histogram of Outcome (Reddit posts)')\n",
    "plt.show()"
   ]
  },
  {
   "cell_type": "markdown",
   "metadata": {},
   "source": [
    "## 2. Data Cleaning"
   ]
  },
  {
   "cell_type": "code",
   "execution_count": 7,
   "metadata": {},
   "outputs": [],
   "source": [
    "def pre_process(text):\n",
    "\n",
    "    #remove url\n",
    "    text = re.sub(r\"http\\S+\", \"\", text)\n",
    "\n",
    "    #remove special cahracters\n",
    "    text = re.sub('\\W', ' ', text)\n",
    "\n",
    "    #remove digits\n",
    "    text = re.sub(r'\\d+', '', text)\n",
    "\n",
    "    #remove _\n",
    "    text = text.replace('_',' ')\n",
    "\n",
    "    #remove white spaces\n",
    "    text = re.sub(r\"\\s+\",\" \", text)\n",
    "\n",
    "    #to lower\n",
    "    text = text.lower()\n",
    "\n",
    "    #remove stopwords\n",
    "    text =' '.join([word for word in text.split() if word not in (stop_words)])\n",
    "\n",
    "    #lemmitize\n",
    "    lemmatizer = WordNetLemmatizer()\n",
    "    text = \" \".join([lemmatizer.lemmatize(word) for word in text.split()])\n",
    "    \n",
    "    return text"
   ]
  },
  {
   "cell_type": "code",
   "execution_count": 8,
   "metadata": {},
   "outputs": [],
   "source": [
    "from nltk.stem import WordNetLemmatizer\n",
    "\n",
    "lemmatizer = WordNetLemmatizer()\n",
    "def lemmatize_words(text):\n",
    "    return \" \".join([lemmatizer.lemmatize(word) for word in text.split()])"
   ]
  },
  {
   "cell_type": "code",
   "execution_count": 9,
   "metadata": {},
   "outputs": [
    {
     "name": "stdout",
     "output_type": "stream",
     "text": [
      "original post:\n",
      " Never had a girlfriend I think i am gona die a virgin or something :(\n",
      "Thanks to this corana shit 🙂\n",
      "--------------------\n",
      "Processed post:\n",
      " never girlfriend think gona die virgin something thanks corana shit\n"
     ]
    }
   ],
   "source": [
    "#post with emoji\n",
    "t_str = df_train.loc[13,'Text']\n",
    "print('original post:\\n',t_str)\n",
    "print(20*'-')\n",
    "print('Processed post:\\n',pre_process(t_str))"
   ]
  },
  {
   "cell_type": "code",
   "execution_count": 10,
   "metadata": {},
   "outputs": [
    {
     "name": "stdout",
     "output_type": "stream",
     "text": [
      "original post:\n",
      " I start arguments everywhere online so someone will talk to me ; _ ; I live alone in the basement of an internet cafe and live on garbage nobody loves me I've never even seen what a smile looks like unless it was on a screen.\n",
      "--------------------\n",
      "Processed post:\n",
      " start argument everywhere online someone talk live alone basement internet cafe live garbage nobody love never even seen smile look like unless screen\n"
     ]
    }
   ],
   "source": [
    "#post with _\n",
    "t_str = df_train.loc[172,'Text']\n",
    "print('original post:\\n',t_str)\n",
    "print(20*'-')\n",
    "print('Processed post:\\n',pre_process(t_str))"
   ]
  },
  {
   "cell_type": "code",
   "execution_count": 11,
   "metadata": {},
   "outputs": [
    {
     "name": "stdout",
     "output_type": "stream",
     "text": [
      "original post:\n",
      " When I was a teenager, I found my mum in a magazine As the title says,\n",
      "\n",
      "When I was a teenager about 13 or 14 i got one of those magazines from one of my friends, you all know what I'm talking about. I took it home and was having a jerk session that night, I was flipping through the pages until I saw it, the face of my mum. I was shocked none of my friends realized that she was in there, and I was shocked that I found it. I never knew she did that kind of thing it was when she was in her early 20's (she had me at 25) I think.\n",
      "\n",
      "I kept flicking through but I couldn't get the thought of her out of my head so I flipped back and started jerking it and on from there.\n",
      "\n",
      "I was ashamed straight after I finished but man she looked good.\n",
      "\n",
      "Sorry for the bad English its my 2nd language.\n",
      "\n",
      "TLDR: found my mum in a porn magazine and jacked it to her\n",
      "--------------------\n",
      "Processed post:\n",
      " teenager found mum magazine title say teenager got one magazine one friend know talking took home jerk session night flipping page saw face mum shocked none friend realized shocked found never knew kind thing early think kept flicking get thought head flipped back started jerking ashamed straight finished man looked good sorry bad english nd language tldr found mum porn magazine jacked\n"
     ]
    }
   ],
   "source": [
    "#post with numbers and paragraphs\n",
    "t_str = df_train.loc[15,'Text']\n",
    "print('original post:\\n',t_str)\n",
    "print(20*'-')\n",
    "print('Processed post:\\n',pre_process(t_str))"
   ]
  },
  {
   "cell_type": "code",
   "execution_count": 12,
   "metadata": {},
   "outputs": [
    {
     "name": "stdout",
     "output_type": "stream",
     "text": [
      "original post:\n",
      " When I was a child my sister was murdered and now I drink everyday to drown the pain. https://www.websleuths.com/forums/threads/az-selenia-moreno-2-dies-at-chandler-day-care-5-nov-2008.78410/\n",
      "\n",
      "This is the last place I could find information about her story.\n",
      "--------------------\n",
      "Processed post:\n",
      " child sister murdered drink everyday drown pain last place could find information story\n"
     ]
    }
   ],
   "source": [
    "#post with url\n",
    "t_str = df_train.loc[202,'Text']\n",
    "print('original post:\\n',t_str)\n",
    "print(20*'-')\n",
    "print('Processed post:\\n',pre_process(t_str))"
   ]
  },
  {
   "cell_type": "code",
   "execution_count": 13,
   "metadata": {},
   "outputs": [
    {
     "name": "stdout",
     "output_type": "stream",
     "text": [
      "original post:\n",
      " Mental Health Crisis Services Preparation in COVID-19 New article on the importance of behavioral health crisis services functionality during COVID-19. \n",
      "\n",
      " [https://www.tbdsolutions.com/helping-when-it-matters-most/](https://www.tbdsolutions.com/helping-when-it-matters-most/)\n",
      "--------------------\n",
      "Processed post:\n",
      " mental health crisis service preparation covid new article importance behavioral health crisis service functionality covid\n"
     ]
    }
   ],
   "source": [
    "#post with /\n",
    "t_str = df_train.loc[1004,'Text']\n",
    "print('original post:\\n',t_str)\n",
    "print(20*'-')\n",
    "print('Processed post:\\n',pre_process(t_str))"
   ]
  },
  {
   "cell_type": "code",
   "execution_count": 14,
   "metadata": {},
   "outputs": [
    {
     "name": "stderr",
     "output_type": "stream",
     "text": [
      "100%|████████████████████████████████████████████████████████████████████████████| 1269/1269 [00:00<00:00, 4472.20it/s]"
     ]
    },
    {
     "name": "stdout",
     "output_type": "stream",
     "text": [
      "Shape of train data: (1269, 7)\n"
     ]
    },
    {
     "name": "stderr",
     "output_type": "stream",
     "text": [
      "\n"
     ]
    },
    {
     "data": {
      "text/html": [
       "<div>\n",
       "<style scoped>\n",
       "    .dataframe tbody tr th:only-of-type {\n",
       "        vertical-align: middle;\n",
       "    }\n",
       "\n",
       "    .dataframe tbody tr th {\n",
       "        vertical-align: top;\n",
       "    }\n",
       "\n",
       "    .dataframe thead th {\n",
       "        text-align: right;\n",
       "    }\n",
       "</style>\n",
       "<table border=\"1\" class=\"dataframe\">\n",
       "  <thead>\n",
       "    <tr style=\"text-align: right;\">\n",
       "      <th></th>\n",
       "      <th>author</th>\n",
       "      <th>postdate</th>\n",
       "      <th>subreddit</th>\n",
       "      <th>Text</th>\n",
       "      <th>Word_count</th>\n",
       "      <th>Outcome</th>\n",
       "      <th>Text_processed</th>\n",
       "    </tr>\n",
       "  </thead>\n",
       "  <tbody>\n",
       "    <tr>\n",
       "      <th>0</th>\n",
       "      <td>TFDP117</td>\n",
       "      <td>2020-07-03 03:02:00</td>\n",
       "      <td>suicide watch</td>\n",
       "      <td>My family and friends are the only thing keepi...</td>\n",
       "      <td>25</td>\n",
       "      <td>1.0</td>\n",
       "      <td>family friend thing keeping suicide reason liv...</td>\n",
       "    </tr>\n",
       "    <tr>\n",
       "      <th>1</th>\n",
       "      <td>jaleel364</td>\n",
       "      <td>2020-02-14 08:28:00</td>\n",
       "      <td>confession</td>\n",
       "      <td>I’m the guy who puts food in random places in ...</td>\n",
       "      <td>27</td>\n",
       "      <td>0.0</td>\n",
       "      <td>guy put food random place walmart reason feel ...</td>\n",
       "    </tr>\n",
       "    <tr>\n",
       "      <th>2</th>\n",
       "      <td>mabbers110</td>\n",
       "      <td>2020-03-16 07:47:00</td>\n",
       "      <td>depression</td>\n",
       "      <td>Has anyone here had their life completely turn...</td>\n",
       "      <td>126</td>\n",
       "      <td>0.0</td>\n",
       "      <td>anyone life completely turned around currently...</td>\n",
       "    </tr>\n",
       "    <tr>\n",
       "      <th>3</th>\n",
       "      <td>AdrianaAura-</td>\n",
       "      <td>2020-08-03 12:44:00</td>\n",
       "      <td>suicide watch</td>\n",
       "      <td>i'm so tired and cold i'm tired\\n\\nand i just ...</td>\n",
       "      <td>42</td>\n",
       "      <td>1.0</td>\n",
       "      <td>tired cold tired want school life fucking joke...</td>\n",
       "    </tr>\n",
       "    <tr>\n",
       "      <th>4</th>\n",
       "      <td>vizzy111</td>\n",
       "      <td>2020-03-24 17:05:00</td>\n",
       "      <td>suicide watch</td>\n",
       "      <td>They said ma days are numbered, but I keep wak...</td>\n",
       "      <td>23</td>\n",
       "      <td>0.0</td>\n",
       "      <td>said day numbered keep waking think world stil...</td>\n",
       "    </tr>\n",
       "  </tbody>\n",
       "</table>\n",
       "</div>"
      ],
      "text/plain": [
       "         author             postdate      subreddit  \\\n",
       "0       TFDP117  2020-07-03 03:02:00  suicide watch   \n",
       "1     jaleel364  2020-02-14 08:28:00     confession   \n",
       "2    mabbers110  2020-03-16 07:47:00     depression   \n",
       "3  AdrianaAura-  2020-08-03 12:44:00  suicide watch   \n",
       "4      vizzy111  2020-03-24 17:05:00  suicide watch   \n",
       "\n",
       "                                                Text  Word_count  Outcome  \\\n",
       "0  My family and friends are the only thing keepi...          25      1.0   \n",
       "1  I’m the guy who puts food in random places in ...          27      0.0   \n",
       "2  Has anyone here had their life completely turn...         126      0.0   \n",
       "3  i'm so tired and cold i'm tired\\n\\nand i just ...          42      1.0   \n",
       "4  They said ma days are numbered, but I keep wak...          23      0.0   \n",
       "\n",
       "                                      Text_processed  \n",
       "0  family friend thing keeping suicide reason liv...  \n",
       "1  guy put food random place walmart reason feel ...  \n",
       "2  anyone life completely turned around currently...  \n",
       "3  tired cold tired want school life fucking joke...  \n",
       "4  said day numbered keep waking think world stil...  "
      ]
     },
     "execution_count": 14,
     "metadata": {},
     "output_type": "execute_result"
    }
   ],
   "source": [
    "df_train['Text_processed'] = df_train['Text'].progress_apply(lambda text: pre_process(text))\n",
    "print('Shape of train data:', df_train.shape)\n",
    "df_train.head()"
   ]
  },
  {
   "cell_type": "code",
   "execution_count": 15,
   "metadata": {},
   "outputs": [
    {
     "name": "stderr",
     "output_type": "stream",
     "text": [
      "100%|██████████████████████████████████████████████████████████████████████████████| 318/318 [00:00<00:00, 4684.91it/s]"
     ]
    },
    {
     "name": "stdout",
     "output_type": "stream",
     "text": [
      "Shape of train data: (318, 7)\n"
     ]
    },
    {
     "name": "stderr",
     "output_type": "stream",
     "text": [
      "\n"
     ]
    },
    {
     "data": {
      "text/html": [
       "<div>\n",
       "<style scoped>\n",
       "    .dataframe tbody tr th:only-of-type {\n",
       "        vertical-align: middle;\n",
       "    }\n",
       "\n",
       "    .dataframe tbody tr th {\n",
       "        vertical-align: top;\n",
       "    }\n",
       "\n",
       "    .dataframe thead th {\n",
       "        text-align: right;\n",
       "    }\n",
       "</style>\n",
       "<table border=\"1\" class=\"dataframe\">\n",
       "  <thead>\n",
       "    <tr style=\"text-align: right;\">\n",
       "      <th></th>\n",
       "      <th>author</th>\n",
       "      <th>postdate</th>\n",
       "      <th>subreddit</th>\n",
       "      <th>Text</th>\n",
       "      <th>Word_count</th>\n",
       "      <th>Outcome</th>\n",
       "      <th>Text_processed</th>\n",
       "    </tr>\n",
       "  </thead>\n",
       "  <tbody>\n",
       "    <tr>\n",
       "      <th>0</th>\n",
       "      <td>ASOBITAIx4</td>\n",
       "      <td>2020-03-28 03:44:00</td>\n",
       "      <td>confession</td>\n",
       "      <td>My boss said I have a good work ethic when I s...</td>\n",
       "      <td>60</td>\n",
       "      <td>0.0</td>\n",
       "      <td>bos said good work ethic spend half workday pl...</td>\n",
       "    </tr>\n",
       "    <tr>\n",
       "      <th>1</th>\n",
       "      <td>crushedweek</td>\n",
       "      <td>2020-03-27 17:19:00</td>\n",
       "      <td>depression</td>\n",
       "      <td>I feel like I'm not depressed I don't have a r...</td>\n",
       "      <td>134</td>\n",
       "      <td>1.0</td>\n",
       "      <td>feel like depressed real good reason deserve d...</td>\n",
       "    </tr>\n",
       "    <tr>\n",
       "      <th>2</th>\n",
       "      <td>tylermufc10</td>\n",
       "      <td>2020-02-27 07:50:00</td>\n",
       "      <td>confession</td>\n",
       "      <td>I used to snort sherbert from the corner shop ...</td>\n",
       "      <td>58</td>\n",
       "      <td>0.0</td>\n",
       "      <td>used snort sherbert corner shop innit understa...</td>\n",
       "    </tr>\n",
       "    <tr>\n",
       "      <th>3</th>\n",
       "      <td>BleachtrumpsNaruto</td>\n",
       "      <td>2020-09-02 04:52:00</td>\n",
       "      <td>confession</td>\n",
       "      <td>I caused someone to die because of a seemingly...</td>\n",
       "      <td>201</td>\n",
       "      <td>0.0</td>\n",
       "      <td>caused someone die seemingly meaningless decis...</td>\n",
       "    </tr>\n",
       "    <tr>\n",
       "      <th>4</th>\n",
       "      <td>Nillend</td>\n",
       "      <td>2020-03-30 05:44:00</td>\n",
       "      <td>depression</td>\n",
       "      <td>I often wonder why do I even bother Nothing I ...</td>\n",
       "      <td>24</td>\n",
       "      <td>0.0</td>\n",
       "      <td>often wonder even bother nothing ever good eno...</td>\n",
       "    </tr>\n",
       "  </tbody>\n",
       "</table>\n",
       "</div>"
      ],
      "text/plain": [
       "               author             postdate   subreddit  \\\n",
       "0          ASOBITAIx4  2020-03-28 03:44:00  confession   \n",
       "1         crushedweek  2020-03-27 17:19:00  depression   \n",
       "2         tylermufc10  2020-02-27 07:50:00  confession   \n",
       "3  BleachtrumpsNaruto  2020-09-02 04:52:00  confession   \n",
       "4             Nillend  2020-03-30 05:44:00  depression   \n",
       "\n",
       "                                                Text  Word_count  Outcome  \\\n",
       "0  My boss said I have a good work ethic when I s...          60      0.0   \n",
       "1  I feel like I'm not depressed I don't have a r...         134      1.0   \n",
       "2  I used to snort sherbert from the corner shop ...          58      0.0   \n",
       "3  I caused someone to die because of a seemingly...         201      0.0   \n",
       "4  I often wonder why do I even bother Nothing I ...          24      0.0   \n",
       "\n",
       "                                      Text_processed  \n",
       "0  bos said good work ethic spend half workday pl...  \n",
       "1  feel like depressed real good reason deserve d...  \n",
       "2  used snort sherbert corner shop innit understa...  \n",
       "3  caused someone die seemingly meaningless decis...  \n",
       "4  often wonder even bother nothing ever good eno...  "
      ]
     },
     "execution_count": 15,
     "metadata": {},
     "output_type": "execute_result"
    }
   ],
   "source": [
    "df_test['Text_processed'] = df_test['Text'].progress_apply(lambda text: pre_process(text))\n",
    "print('Shape of train data:', df_test.shape)\n",
    "df_test.head()"
   ]
  },
  {
   "cell_type": "markdown",
   "metadata": {},
   "source": [
    "### 2.1 Common words"
   ]
  },
  {
   "cell_type": "code",
   "execution_count": 16,
   "metadata": {},
   "outputs": [
    {
     "data": {
      "text/plain": [
       "[('feel', 844),\n",
       " ('like', 803),\n",
       " ('want', 682),\n",
       " ('know', 574),\n",
       " ('life', 523),\n",
       " ('get', 523),\n",
       " ('time', 480),\n",
       " ('people', 407),\n",
       " ('one', 370),\n",
       " ('really', 367)]"
      ]
     },
     "execution_count": 16,
     "metadata": {},
     "output_type": "execute_result"
    }
   ],
   "source": [
    "#view top words for all posts\n",
    "cnt = Counter()\n",
    "for text in df_train['Text_processed'].values:\n",
    "    for word in text.split():\n",
    "        cnt[word] += 1\n",
    "        \n",
    "cnt.most_common(10)"
   ]
  },
  {
   "cell_type": "code",
   "execution_count": 17,
   "metadata": {},
   "outputs": [
    {
     "data": {
      "text/plain": [
       "[('stain', 1),\n",
       " ('genetics', 1),\n",
       " ('scarred', 1),\n",
       " ('unleash', 1),\n",
       " ('limitation', 1),\n",
       " ('outer', 1),\n",
       " ('exposed', 1),\n",
       " ('sympton', 1),\n",
       " ('interpretation', 1),\n",
       " ('deeo', 1)]"
      ]
     },
     "execution_count": 17,
     "metadata": {},
     "output_type": "execute_result"
    }
   ],
   "source": [
    "#view rare words of all posts\n",
    "n_rare_words = 10\n",
    "cnt.most_common()[:-n_rare_words-1:-1]"
   ]
  },
  {
   "cell_type": "code",
   "execution_count": 18,
   "metadata": {},
   "outputs": [
    {
     "name": "stdout",
     "output_type": "stream",
     "text": [
      "Outcome: 1.0\n",
      "[('feel', 357), ('want', 293), ('like', 287), ('life', 217), ('know', 177), ('get', 167), ('time', 153), ('even', 136), ('friend', 117), ('day', 116)]\n",
      "********************\n",
      "Outcome: 0.0\n",
      "[('like', 427), ('feel', 393), ('know', 315), ('get', 299), ('want', 274), ('time', 264), ('people', 253), ('life', 230), ('really', 220), ('one', 217)]\n",
      "********************\n",
      "Outcome: 2.0\n",
      "[('want', 115), ('feel', 94), ('like', 89), ('know', 82), ('life', 76), ('time', 63), ('get', 57), ('think', 55), ('die', 53), ('anymore', 52)]\n",
      "********************\n"
     ]
    }
   ],
   "source": [
    "#View top words for each outcome group\n",
    "from collections import Counter\n",
    "\n",
    "gps = df_train.Outcome.unique()\n",
    "\n",
    "cnt_gps = {}\n",
    "\n",
    "for i in range(len(gps)):\n",
    "\n",
    "    print('Outcome:', gps[i])\n",
    "    tmp = df_train.loc[df_train.Outcome == gps[i]]\n",
    "    tmp.reset_index(drop=True, inplace=True)\n",
    "\n",
    "    cnt = Counter()\n",
    "    for text in tmp['Text_processed'].values:\n",
    "        for word in text.split():\n",
    "            cnt[word] += 1\n",
    "            \n",
    "    print(cnt.most_common(10))\n",
    "    cnt_gps[gps[i]] = cnt.most_common(10)\n",
    "    print(20*'*')"
   ]
  },
  {
   "cell_type": "markdown",
   "metadata": {},
   "source": [
    "## 3. Feature Engineering"
   ]
  },
  {
   "cell_type": "markdown",
   "metadata": {},
   "source": [
    "### 3.1 Topic modelling"
   ]
  },
  {
   "cell_type": "code",
   "execution_count": 19,
   "metadata": {},
   "outputs": [],
   "source": [
    "from gensim.test.utils import common_corpus, common_dictionary\n",
    "import gensim"
   ]
  },
  {
   "cell_type": "code",
   "execution_count": 20,
   "metadata": {},
   "outputs": [
    {
     "name": "stderr",
     "output_type": "stream",
     "text": [
      "100%|████████████████████████████████████████████████████████████████████████████| 1269/1269 [00:00<00:00, 5823.29it/s]\n"
     ]
    }
   ],
   "source": [
    "#tokenize each post\n",
    "processed_docs_train = df_train['Text_processed'].progress_apply(lambda text: nltk.word_tokenize(text))\n",
    "#Find the dictionary\n",
    "dictionary = gensim.corpora.Dictionary(processed_docs_train)"
   ]
  },
  {
   "cell_type": "code",
   "execution_count": 21,
   "metadata": {},
   "outputs": [
    {
     "name": "stdout",
     "output_type": "stream",
     "text": [
      "0 family\n",
      "1 friend\n",
      "2 keeping\n",
      "3 life\n",
      "4 living\n",
      "5 nothing\n",
      "6 reason\n",
      "7 suicide\n",
      "8 thing\n",
      "9 without\n",
      "10 back\n"
     ]
    }
   ],
   "source": [
    "#view the dicitonary\n",
    "count = 0\n",
    "for k, v in dictionary.iteritems():\n",
    "    print(k, v)\n",
    "    count += 1\n",
    "    if count > 10:\n",
    "        break"
   ]
  },
  {
   "cell_type": "code",
   "execution_count": 22,
   "metadata": {},
   "outputs": [],
   "source": [
    "#Create the Bag-of-words model for train document\n",
    "bow_corpus_train = [dictionary.doc2bow(doc) for doc in processed_docs_train]"
   ]
  },
  {
   "cell_type": "code",
   "execution_count": 23,
   "metadata": {},
   "outputs": [
    {
     "name": "stdout",
     "output_type": "stream",
     "text": [
      "Word 6 (\"reason\") appears 1 time.\n",
      "Word 10 (\"back\") appears 1 time.\n",
      "Word 11 (\"feel\") appears 1 time.\n",
      "Word 12 (\"food\") appears 1 time.\n",
      "Word 13 (\"guy\") appears 1 time.\n",
      "Word 14 (\"like\") appears 1 time.\n",
      "Word 15 (\"place\") appears 1 time.\n",
      "Word 16 (\"put\") appears 1 time.\n",
      "Word 17 (\"random\") appears 1 time.\n",
      "Word 18 (\"side\") appears 1 time.\n",
      "Word 19 (\"store\") appears 1 time.\n",
      "Word 20 (\"walking\") appears 1 time.\n",
      "Word 21 (\"walmart\") appears 1 time.\n"
     ]
    }
   ],
   "source": [
    "#Preview BOW for our sample preprocessed document\n",
    "\n",
    "document_num = 1\n",
    "bow_doc_x = bow_corpus_train[document_num]\n",
    "\n",
    "for i in range(len(bow_doc_x)):\n",
    "    print(\"Word {} (\\\"{}\\\") appears {} time.\".format(bow_doc_x[i][0], \n",
    "                                                     dictionary[bow_doc_x[i][0]], \n",
    "                                                     bow_doc_x[i][1]))"
   ]
  },
  {
   "cell_type": "code",
   "execution_count": 24,
   "metadata": {},
   "outputs": [],
   "source": [
    "num_topics = 15\n",
    "lda_model =  gensim.models.LdaMulticore(bow_corpus_train, \n",
    "                                   num_topics = num_topics, \n",
    "                                   id2word = dictionary,                                    \n",
    "                                   passes = 10)"
   ]
  },
  {
   "cell_type": "code",
   "execution_count": 25,
   "metadata": {},
   "outputs": [
    {
     "name": "stdout",
     "output_type": "stream",
     "text": [
      "Topic: 0 \n",
      "Words: 0.012*\"like\" + 0.011*\"depression\" + 0.010*\"know\" + 0.010*\"year\" + 0.009*\"feel\" + 0.008*\"time\" + 0.008*\"depressed\" + 0.008*\"think\" + 0.008*\"day\" + 0.007*\"get\"\n",
      "\n",
      "\n",
      "Topic: 1 \n",
      "Words: 0.013*\"like\" + 0.011*\"go\" + 0.010*\"feel\" + 0.010*\"want\" + 0.008*\"day\" + 0.008*\"know\" + 0.008*\"time\" + 0.007*\"nothing\" + 0.007*\"thought\" + 0.007*\"one\"\n",
      "\n",
      "\n",
      "Topic: 2 \n",
      "Words: 0.028*\"want\" + 0.026*\"die\" + 0.016*\"help\" + 0.011*\"fucking\" + 0.010*\"get\" + 0.009*\"nothing\" + 0.009*\"feel\" + 0.009*\"life\" + 0.009*\"much\" + 0.007*\"year\"\n",
      "\n",
      "\n",
      "Topic: 3 \n",
      "Words: 0.018*\"want\" + 0.014*\"im\" + 0.013*\"help\" + 0.012*\"dont\" + 0.011*\"friend\" + 0.010*\"know\" + 0.009*\"cant\" + 0.009*\"like\" + 0.007*\"feel\" + 0.007*\"much\"\n",
      "\n",
      "\n",
      "Topic: 4 \n",
      "Words: 0.028*\"feel\" + 0.024*\"like\" + 0.014*\"want\" + 0.011*\"get\" + 0.010*\"know\" + 0.008*\"people\" + 0.008*\"thing\" + 0.007*\"would\" + 0.006*\"day\" + 0.006*\"school\"\n",
      "\n",
      "\n",
      "Topic: 5 \n",
      "Words: 0.012*\"time\" + 0.010*\"need\" + 0.008*\"take\" + 0.008*\"tired\" + 0.007*\"get\" + 0.007*\"help\" + 0.006*\"know\" + 0.006*\"feel\" + 0.006*\"anyone\" + 0.006*\"na\"\n",
      "\n",
      "\n",
      "Topic: 6 \n",
      "Words: 0.017*\"feel\" + 0.016*\"know\" + 0.016*\"want\" + 0.013*\"life\" + 0.013*\"like\" + 0.010*\"get\" + 0.009*\"friend\" + 0.009*\"someone\" + 0.008*\"one\" + 0.008*\"fuck\"\n",
      "\n",
      "\n",
      "Topic: 7 \n",
      "Words: 0.013*\"like\" + 0.013*\"want\" + 0.012*\"know\" + 0.011*\"people\" + 0.010*\"one\" + 0.008*\"year\" + 0.008*\"feel\" + 0.008*\"life\" + 0.007*\"would\" + 0.007*\"time\"\n",
      "\n",
      "\n",
      "Topic: 8 \n",
      "Words: 0.018*\"like\" + 0.015*\"feel\" + 0.013*\"time\" + 0.012*\"get\" + 0.011*\"want\" + 0.009*\"people\" + 0.009*\"really\" + 0.008*\"one\" + 0.007*\"day\" + 0.007*\"fucking\"\n",
      "\n",
      "\n",
      "Topic: 9 \n",
      "Words: 0.021*\"feel\" + 0.016*\"life\" + 0.014*\"want\" + 0.014*\"like\" + 0.013*\"time\" + 0.012*\"going\" + 0.010*\"know\" + 0.009*\"anymore\" + 0.009*\"really\" + 0.009*\"get\"\n",
      "\n",
      "\n",
      "Topic: 10 \n",
      "Words: 0.018*\"like\" + 0.012*\"feel\" + 0.010*\"people\" + 0.010*\"really\" + 0.010*\"get\" + 0.007*\"friend\" + 0.007*\"go\" + 0.007*\"time\" + 0.007*\"one\" + 0.007*\"would\"\n",
      "\n",
      "\n",
      "Topic: 11 \n",
      "Words: 0.018*\"people\" + 0.014*\"know\" + 0.013*\"like\" + 0.012*\"get\" + 0.011*\"feel\" + 0.009*\"really\" + 0.008*\"would\" + 0.008*\"day\" + 0.007*\"need\" + 0.007*\"something\"\n",
      "\n",
      "\n",
      "Topic: 12 \n",
      "Words: 0.009*\"like\" + 0.008*\"get\" + 0.007*\"feeling\" + 0.007*\"going\" + 0.007*\"go\" + 0.007*\"im\" + 0.007*\"better\" + 0.007*\"even\" + 0.007*\"life\" + 0.006*\"depression\"\n",
      "\n",
      "\n",
      "Topic: 13 \n",
      "Words: 0.012*\"get\" + 0.010*\"want\" + 0.010*\"feel\" + 0.009*\"life\" + 0.009*\"like\" + 0.008*\"make\" + 0.008*\"anyone\" + 0.007*\"love\" + 0.007*\"people\" + 0.006*\"would\"\n",
      "\n",
      "\n",
      "Topic: 14 \n",
      "Words: 0.014*\"thing\" + 0.013*\"feel\" + 0.010*\"dont\" + 0.009*\"even\" + 0.009*\"good\" + 0.009*\"like\" + 0.008*\"bad\" + 0.007*\"know\" + 0.006*\"year\" + 0.006*\"hate\"\n",
      "\n",
      "\n"
     ]
    }
   ],
   "source": [
    "for idx, topic in lda_model.print_topics(-1):\n",
    "    print(\"Topic: {} \\nWords: {}\".format(idx, topic ))\n",
    "    print(\"\\n\")"
   ]
  },
  {
   "cell_type": "code",
   "execution_count": 26,
   "metadata": {},
   "outputs": [
    {
     "name": "stdout",
     "output_type": "stream",
     "text": [
      "[[0.006061399, 0.0060613924, 0.0060613863, 0.062336374, 0.0060613896, 0.0060613835, 0.006061395, 0.006061389, 0.006061394, 0.8588655, 0.006061385, 0.006061391, 0.0060614017, 0.006061385, 0.006061389], [0.0047628856, 0.004762887, 0.00476288, 0.0047628824, 0.7593952, 0.00476288, 0.004762884, 0.004762882, 0.17868735, 0.004762883, 0.004762882, 0.0047628824, 0.00476288, 0.0047628786, 0.0047628833]]\n"
     ]
    }
   ],
   "source": [
    "#Get topic as vectors for train data\n",
    "train_topic_vecs = []\n",
    "for i in range(len(bow_corpus_train)):\n",
    "    top_topics = (\n",
    "        lda_model.get_document_topics(bow_corpus_train[i], minimum_probability=0.0))\n",
    "    topic_vec = [top_topics[i][1] for i in range(num_topics)]\n",
    "    train_topic_vecs.append(topic_vec)\n",
    "\n",
    "print(train_topic_vecs[0:2])"
   ]
  },
  {
   "cell_type": "code",
   "execution_count": 27,
   "metadata": {},
   "outputs": [
    {
     "name": "stderr",
     "output_type": "stream",
     "text": [
      "100%|██████████████████████████████████████████████████████████████████████████████| 318/318 [00:00<00:00, 6169.72it/s]"
     ]
    },
    {
     "name": "stdout",
     "output_type": "stream",
     "text": [
      "[(37, 1), (38, 1), (59, 1), (88, 1), (146, 1), (190, 2), (193, 1), (194, 1), (206, 2), (277, 1), (476, 2), (548, 1), (808, 1), (842, 1), (860, 1), (872, 3), (892, 1), (1038, 1), (1698, 1), (1739, 2), (1849, 1), (2943, 1), (3342, 1)]\n"
     ]
    },
    {
     "name": "stderr",
     "output_type": "stream",
     "text": [
      "\n"
     ]
    }
   ],
   "source": [
    "# Data preprocessing step for test data\n",
    "processed_docs_test = df_test['Text_processed'].progress_apply(lambda text: nltk.word_tokenize(text))\n",
    "\n",
    "#Create the Bag-of-words model for test document\n",
    "bow_corpus_test = [dictionary.doc2bow(doc) for doc in processed_docs_test]\n",
    "print(bow_corpus_test[0])"
   ]
  },
  {
   "cell_type": "code",
   "execution_count": 28,
   "metadata": {},
   "outputs": [
    {
     "name": "stdout",
     "output_type": "stream",
     "text": [
      "[[0.0022229485, 0.0022229503, 0.0022229461, 0.0022229468, 0.30407563, 0.0022229478, 0.002222949, 0.00222295, 0.533421, 0.002222951, 0.13582799, 0.0022229461, 0.0022229468, 0.0022229485, 0.0022229538], [0.31948787, 0.0011701577, 0.0011701559, 0.001170158, 0.0011701586, 0.0011701563, 0.20038202, 0.0011701579, 0.0011701575, 0.46608827, 0.0011701563, 0.0011701582, 0.0011701565, 0.0011701564, 0.0011701565]]\n"
     ]
    }
   ],
   "source": [
    "#Get topic as vectors for test data\n",
    "test_topic_vecs = []\n",
    "for i in range(len(bow_corpus_test)):\n",
    "    top_topics = (\n",
    "        lda_model.get_document_topics(bow_corpus_test[i], minimum_probability=0.0))\n",
    "    topic_vec = [top_topics[i][1] for i in range(num_topics)]\n",
    "    test_topic_vecs.append(topic_vec)\n",
    "\n",
    "print(test_topic_vecs[0:2])"
   ]
  },
  {
   "cell_type": "code",
   "execution_count": 29,
   "metadata": {},
   "outputs": [
    {
     "name": "stdout",
     "output_type": "stream",
     "text": [
      "Shape of train topic vector: 1269\n",
      "Shape of test topic vector: 318\n"
     ]
    }
   ],
   "source": [
    "print('Shape of train topic vector:',len(train_topic_vecs))\n",
    "print('Shape of test topic vector:',len(test_topic_vecs))"
   ]
  },
  {
   "cell_type": "markdown",
   "metadata": {},
   "source": [
    "### 3.2 Sentiment Analysis"
   ]
  },
  {
   "cell_type": "code",
   "execution_count": 30,
   "metadata": {},
   "outputs": [],
   "source": [
    "from textblob import TextBlob\n",
    "\n",
    "def sentiment_textblob(text):\n",
    "    testimonial = TextBlob(text)\n",
    "    #print(testimonial.sentiment)\n",
    "    #print(testimonial.sentiment.polarity)\n",
    "    score = round(testimonial.sentiment.polarity,4)\n",
    "    return score"
   ]
  },
  {
   "cell_type": "code",
   "execution_count": 31,
   "metadata": {},
   "outputs": [],
   "source": [
    "from nltk.sentiment import SentimentIntensityAnalyzer\n",
    "\n",
    "def sentiment_vader(text):\n",
    "    sia = SentimentIntensityAnalyzer()\n",
    "    #print(sia.polarity_scores(txt))\n",
    "    #print(sia.polarity_scores(txt)['compound'])\n",
    "    score = round(sia.polarity_scores(text)['compound'],4)\n",
    "    return score"
   ]
  },
  {
   "cell_type": "code",
   "execution_count": 32,
   "metadata": {},
   "outputs": [
    {
     "name": "stdout",
     "output_type": "stream",
     "text": [
      "-0.25\n",
      "0.3612\n"
     ]
    }
   ],
   "source": [
    "#test 1 post\n",
    "txt = df_train.loc[1,'Text_processed']\n",
    "print(sentiment_textblob(txt))\n",
    "print(sentiment_vader(txt))"
   ]
  },
  {
   "cell_type": "code",
   "execution_count": 33,
   "metadata": {},
   "outputs": [
    {
     "name": "stderr",
     "output_type": "stream",
     "text": [
      "100%|████████████████████████████████████████████████████████████████████████████| 1269/1269 [00:00<00:00, 4010.55it/s]\n",
      "100%|█████████████████████████████████████████████████████████████████████████████| 1269/1269 [00:08<00:00, 155.40it/s]\n"
     ]
    }
   ],
   "source": [
    "#Find sentiment score for train data\n",
    "df_train['Textblob_score'] = df_train['Text_processed'].progress_apply(lambda text: sentiment_textblob(text))\n",
    "df_train['Vader_score'] = df_train['Text_processed'].progress_apply(lambda text: sentiment_vader(text))"
   ]
  },
  {
   "cell_type": "code",
   "execution_count": 34,
   "metadata": {},
   "outputs": [
    {
     "data": {
      "text/html": [
       "<div>\n",
       "<style scoped>\n",
       "    .dataframe tbody tr th:only-of-type {\n",
       "        vertical-align: middle;\n",
       "    }\n",
       "\n",
       "    .dataframe tbody tr th {\n",
       "        vertical-align: top;\n",
       "    }\n",
       "\n",
       "    .dataframe thead th {\n",
       "        text-align: right;\n",
       "    }\n",
       "</style>\n",
       "<table border=\"1\" class=\"dataframe\">\n",
       "  <thead>\n",
       "    <tr style=\"text-align: right;\">\n",
       "      <th></th>\n",
       "      <th>author</th>\n",
       "      <th>postdate</th>\n",
       "      <th>subreddit</th>\n",
       "      <th>Text</th>\n",
       "      <th>Word_count</th>\n",
       "      <th>Outcome</th>\n",
       "      <th>Text_processed</th>\n",
       "      <th>Textblob_score</th>\n",
       "      <th>Vader_score</th>\n",
       "    </tr>\n",
       "  </thead>\n",
       "  <tbody>\n",
       "    <tr>\n",
       "      <th>0</th>\n",
       "      <td>TFDP117</td>\n",
       "      <td>2020-07-03 03:02:00</td>\n",
       "      <td>suicide watch</td>\n",
       "      <td>My family and friends are the only thing keepi...</td>\n",
       "      <td>25</td>\n",
       "      <td>1.0</td>\n",
       "      <td>family friend thing keeping suicide reason liv...</td>\n",
       "      <td>0.0000</td>\n",
       "      <td>-0.3182</td>\n",
       "    </tr>\n",
       "    <tr>\n",
       "      <th>1</th>\n",
       "      <td>jaleel364</td>\n",
       "      <td>2020-02-14 08:28:00</td>\n",
       "      <td>confession</td>\n",
       "      <td>I’m the guy who puts food in random places in ...</td>\n",
       "      <td>27</td>\n",
       "      <td>0.0</td>\n",
       "      <td>guy put food random place walmart reason feel ...</td>\n",
       "      <td>-0.2500</td>\n",
       "      <td>0.3612</td>\n",
       "    </tr>\n",
       "    <tr>\n",
       "      <th>2</th>\n",
       "      <td>mabbers110</td>\n",
       "      <td>2020-03-16 07:47:00</td>\n",
       "      <td>depression</td>\n",
       "      <td>Has anyone here had their life completely turn...</td>\n",
       "      <td>126</td>\n",
       "      <td>0.0</td>\n",
       "      <td>anyone life completely turned around currently...</td>\n",
       "      <td>0.0205</td>\n",
       "      <td>-0.9568</td>\n",
       "    </tr>\n",
       "    <tr>\n",
       "      <th>3</th>\n",
       "      <td>AdrianaAura-</td>\n",
       "      <td>2020-08-03 12:44:00</td>\n",
       "      <td>suicide watch</td>\n",
       "      <td>i'm so tired and cold i'm tired\\n\\nand i just ...</td>\n",
       "      <td>42</td>\n",
       "      <td>1.0</td>\n",
       "      <td>tired cold tired want school life fucking joke...</td>\n",
       "      <td>-0.3417</td>\n",
       "      <td>-0.8994</td>\n",
       "    </tr>\n",
       "    <tr>\n",
       "      <th>4</th>\n",
       "      <td>vizzy111</td>\n",
       "      <td>2020-03-24 17:05:00</td>\n",
       "      <td>suicide watch</td>\n",
       "      <td>They said ma days are numbered, but I keep wak...</td>\n",
       "      <td>23</td>\n",
       "      <td>0.0</td>\n",
       "      <td>said day numbered keep waking think world stil...</td>\n",
       "      <td>-0.5000</td>\n",
       "      <td>-0.3182</td>\n",
       "    </tr>\n",
       "  </tbody>\n",
       "</table>\n",
       "</div>"
      ],
      "text/plain": [
       "         author             postdate      subreddit  \\\n",
       "0       TFDP117  2020-07-03 03:02:00  suicide watch   \n",
       "1     jaleel364  2020-02-14 08:28:00     confession   \n",
       "2    mabbers110  2020-03-16 07:47:00     depression   \n",
       "3  AdrianaAura-  2020-08-03 12:44:00  suicide watch   \n",
       "4      vizzy111  2020-03-24 17:05:00  suicide watch   \n",
       "\n",
       "                                                Text  Word_count  Outcome  \\\n",
       "0  My family and friends are the only thing keepi...          25      1.0   \n",
       "1  I’m the guy who puts food in random places in ...          27      0.0   \n",
       "2  Has anyone here had their life completely turn...         126      0.0   \n",
       "3  i'm so tired and cold i'm tired\\n\\nand i just ...          42      1.0   \n",
       "4  They said ma days are numbered, but I keep wak...          23      0.0   \n",
       "\n",
       "                                      Text_processed  Textblob_score  \\\n",
       "0  family friend thing keeping suicide reason liv...          0.0000   \n",
       "1  guy put food random place walmart reason feel ...         -0.2500   \n",
       "2  anyone life completely turned around currently...          0.0205   \n",
       "3  tired cold tired want school life fucking joke...         -0.3417   \n",
       "4  said day numbered keep waking think world stil...         -0.5000   \n",
       "\n",
       "   Vader_score  \n",
       "0      -0.3182  \n",
       "1       0.3612  \n",
       "2      -0.9568  \n",
       "3      -0.8994  \n",
       "4      -0.3182  "
      ]
     },
     "execution_count": 34,
     "metadata": {},
     "output_type": "execute_result"
    }
   ],
   "source": [
    "df_train.head()"
   ]
  },
  {
   "cell_type": "code",
   "execution_count": 35,
   "metadata": {},
   "outputs": [
    {
     "name": "stderr",
     "output_type": "stream",
     "text": [
      "100%|██████████████████████████████████████████████████████████████████████████████| 318/318 [00:00<00:00, 4181.90it/s]\n",
      "100%|███████████████████████████████████████████████████████████████████████████████| 318/318 [00:02<00:00, 159.00it/s]\n"
     ]
    }
   ],
   "source": [
    "#Find sentiment score for test data\n",
    "df_test['Textblob_score'] = df_test['Text_processed'].progress_apply(lambda text: sentiment_textblob(text))\n",
    "df_test['Vader_score'] = df_test['Text_processed'].progress_apply(lambda text: sentiment_vader(text))"
   ]
  },
  {
   "cell_type": "code",
   "execution_count": 36,
   "metadata": {},
   "outputs": [
    {
     "data": {
      "text/html": [
       "<div>\n",
       "<style scoped>\n",
       "    .dataframe tbody tr th:only-of-type {\n",
       "        vertical-align: middle;\n",
       "    }\n",
       "\n",
       "    .dataframe tbody tr th {\n",
       "        vertical-align: top;\n",
       "    }\n",
       "\n",
       "    .dataframe thead th {\n",
       "        text-align: right;\n",
       "    }\n",
       "</style>\n",
       "<table border=\"1\" class=\"dataframe\">\n",
       "  <thead>\n",
       "    <tr style=\"text-align: right;\">\n",
       "      <th></th>\n",
       "      <th>author</th>\n",
       "      <th>postdate</th>\n",
       "      <th>subreddit</th>\n",
       "      <th>Text</th>\n",
       "      <th>Word_count</th>\n",
       "      <th>Outcome</th>\n",
       "      <th>Text_processed</th>\n",
       "      <th>Textblob_score</th>\n",
       "      <th>Vader_score</th>\n",
       "    </tr>\n",
       "  </thead>\n",
       "  <tbody>\n",
       "    <tr>\n",
       "      <th>0</th>\n",
       "      <td>ASOBITAIx4</td>\n",
       "      <td>2020-03-28 03:44:00</td>\n",
       "      <td>confession</td>\n",
       "      <td>My boss said I have a good work ethic when I s...</td>\n",
       "      <td>60</td>\n",
       "      <td>0.0</td>\n",
       "      <td>bos said good work ethic spend half workday pl...</td>\n",
       "      <td>-0.1264</td>\n",
       "      <td>0.6249</td>\n",
       "    </tr>\n",
       "    <tr>\n",
       "      <th>1</th>\n",
       "      <td>crushedweek</td>\n",
       "      <td>2020-03-27 17:19:00</td>\n",
       "      <td>depression</td>\n",
       "      <td>I feel like I'm not depressed I don't have a r...</td>\n",
       "      <td>134</td>\n",
       "      <td>1.0</td>\n",
       "      <td>feel like depressed real good reason deserve d...</td>\n",
       "      <td>0.0147</td>\n",
       "      <td>-0.9110</td>\n",
       "    </tr>\n",
       "    <tr>\n",
       "      <th>2</th>\n",
       "      <td>tylermufc10</td>\n",
       "      <td>2020-02-27 07:50:00</td>\n",
       "      <td>confession</td>\n",
       "      <td>I used to snort sherbert from the corner shop ...</td>\n",
       "      <td>58</td>\n",
       "      <td>0.0</td>\n",
       "      <td>used snort sherbert corner shop innit understa...</td>\n",
       "      <td>-0.0403</td>\n",
       "      <td>0.4417</td>\n",
       "    </tr>\n",
       "    <tr>\n",
       "      <th>3</th>\n",
       "      <td>BleachtrumpsNaruto</td>\n",
       "      <td>2020-09-02 04:52:00</td>\n",
       "      <td>confession</td>\n",
       "      <td>I caused someone to die because of a seemingly...</td>\n",
       "      <td>201</td>\n",
       "      <td>0.0</td>\n",
       "      <td>caused someone die seemingly meaningless decis...</td>\n",
       "      <td>-0.0965</td>\n",
       "      <td>-0.9001</td>\n",
       "    </tr>\n",
       "    <tr>\n",
       "      <th>4</th>\n",
       "      <td>Nillend</td>\n",
       "      <td>2020-03-30 05:44:00</td>\n",
       "      <td>depression</td>\n",
       "      <td>I often wonder why do I even bother Nothing I ...</td>\n",
       "      <td>24</td>\n",
       "      <td>0.0</td>\n",
       "      <td>often wonder even bother nothing ever good eno...</td>\n",
       "      <td>0.2333</td>\n",
       "      <td>-0.5967</td>\n",
       "    </tr>\n",
       "  </tbody>\n",
       "</table>\n",
       "</div>"
      ],
      "text/plain": [
       "               author             postdate   subreddit  \\\n",
       "0          ASOBITAIx4  2020-03-28 03:44:00  confession   \n",
       "1         crushedweek  2020-03-27 17:19:00  depression   \n",
       "2         tylermufc10  2020-02-27 07:50:00  confession   \n",
       "3  BleachtrumpsNaruto  2020-09-02 04:52:00  confession   \n",
       "4             Nillend  2020-03-30 05:44:00  depression   \n",
       "\n",
       "                                                Text  Word_count  Outcome  \\\n",
       "0  My boss said I have a good work ethic when I s...          60      0.0   \n",
       "1  I feel like I'm not depressed I don't have a r...         134      1.0   \n",
       "2  I used to snort sherbert from the corner shop ...          58      0.0   \n",
       "3  I caused someone to die because of a seemingly...         201      0.0   \n",
       "4  I often wonder why do I even bother Nothing I ...          24      0.0   \n",
       "\n",
       "                                      Text_processed  Textblob_score  \\\n",
       "0  bos said good work ethic spend half workday pl...         -0.1264   \n",
       "1  feel like depressed real good reason deserve d...          0.0147   \n",
       "2  used snort sherbert corner shop innit understa...         -0.0403   \n",
       "3  caused someone die seemingly meaningless decis...         -0.0965   \n",
       "4  often wonder even bother nothing ever good eno...          0.2333   \n",
       "\n",
       "   Vader_score  \n",
       "0       0.6249  \n",
       "1      -0.9110  \n",
       "2       0.4417  \n",
       "3      -0.9001  \n",
       "4      -0.5967  "
      ]
     },
     "execution_count": 36,
     "metadata": {},
     "output_type": "execute_result"
    }
   ],
   "source": [
    "df_test.head()"
   ]
  },
  {
   "cell_type": "code",
   "execution_count": 37,
   "metadata": {},
   "outputs": [
    {
     "data": {
      "image/png": "[encoded data removed]",
      "text/plain": [
       "<Figure size 360x360 with 1 Axes>"
      ]
     },
     "metadata": {
      "needs_background": "light"
     },
     "output_type": "display_data"
    }
   ],
   "source": [
    "import seaborn as sns\n",
    "\n",
    "sns.catplot(x=\"Outcome\", y=\"Textblob_score\", data=df_train)\n",
    "plt.show()"
   ]
  },
  {
   "cell_type": "code",
   "execution_count": 38,
   "metadata": {},
   "outputs": [
    {
     "data": {
      "image/png": "[encoded data removed]",
      "text/plain": [
       "<Figure size 360x360 with 1 Axes>"
      ]
     },
     "metadata": {
      "needs_background": "light"
     },
     "output_type": "display_data"
    }
   ],
   "source": [
    "sns.catplot(x=\"Outcome\", y=\"Vader_score\", data=df_train)\n",
    "plt.show()"
   ]
  },
  {
   "cell_type": "code",
   "execution_count": 39,
   "metadata": {},
   "outputs": [
    {
     "data": {
      "text/plain": [
       "<matplotlib.legend.Legend at 0x229d9103220>"
      ]
     },
     "execution_count": 39,
     "metadata": {},
     "output_type": "execute_result"
    },
    {
     "data": {
      "image/png": "[encoded data removed]",
      "text/plain": [
       "<Figure size 432x288 with 1 Axes>"
      ]
     },
     "metadata": {
      "needs_background": "light"
     },
     "output_type": "display_data"
    }
   ],
   "source": [
    "for x in df_train.Outcome.unique():\n",
    "    sns.distplot(df_train.loc[df_train['Outcome']==x,'Textblob_score'], hist=False, kde=True, kde_kws={'shade':True},label=x, axlabel=\"density\")\n",
    "plt.legend()"
   ]
  },
  {
   "cell_type": "code",
   "execution_count": 40,
   "metadata": {},
   "outputs": [
    {
     "data": {
      "text/plain": [
       "<matplotlib.legend.Legend at 0x229d914a2b0>"
      ]
     },
     "execution_count": 40,
     "metadata": {},
     "output_type": "execute_result"
    },
    {
     "data": {
      "image/png": "[encoded data removed]",
      "text/plain": [
       "<Figure size 432x288 with 1 Axes>"
      ]
     },
     "metadata": {
      "needs_background": "light"
     },
     "output_type": "display_data"
    }
   ],
   "source": [
    "for x in df_train.Outcome.unique():\n",
    "    sns.distplot(df_train.loc[df_train['Outcome']==x,'Vader_score'], hist=False, kde=True, kde_kws={'shade':True},label=x, axlabel=\"density\")\n",
    "plt.legend()"
   ]
  },
  {
   "cell_type": "markdown",
   "metadata": {},
   "source": [
    "### 3.3 TF-IDF Vectors as features"
   ]
  },
  {
   "cell_type": "code",
   "execution_count": 42,
   "metadata": {},
   "outputs": [
    {
     "name": "stdout",
     "output_type": "stream",
     "text": [
      "Train data shape: (1269,) (1269,)\n",
      "Test data shape: (318,) (318,)\n"
     ]
    }
   ],
   "source": [
    "#split the dataset into training and test datasets \n",
    "X_train_text = df_train['Text_processed'] \n",
    "y_train = df_train['Outcome']\n",
    "print('Train data shape:',X_train_text.shape, y_train.shape)\n",
    "\n",
    "X_test_text = df_test['Text_processed'] \n",
    "y_test = df_test['Outcome']\n",
    "print('Test data shape:',X_test_text.shape, y_test.shape)"
   ]
  },
  {
   "cell_type": "code",
   "execution_count": 43,
   "metadata": {},
   "outputs": [
    {
     "name": "stdout",
     "output_type": "stream",
     "text": [
      "(1269, 7557)\n"
     ]
    }
   ],
   "source": [
    "from sklearn.feature_extraction.text import TfidfVectorizer\n",
    "from scipy.sparse import hstack\n",
    "\n",
    "tfidf_vectorizer = TfidfVectorizer(analyzer='word',ngram_range=(1,2), min_df=2)\n",
    "#tfidf_vectorizer = TfidfVectorizer(analyzer='word')\n",
    "#tfidf_vectorizer = TfidfVectorizer(analyzer='word', min_df=2)\n",
    "X_train_tfidf = tfidf_vectorizer.fit_transform(X_train_text)\n",
    "print(X_train_tfidf.shape)"
   ]
  },
  {
   "cell_type": "code",
   "execution_count": 44,
   "metadata": {},
   "outputs": [
    {
     "name": "stdout",
     "output_type": "stream",
     "text": [
      "(318, 7557)\n"
     ]
    }
   ],
   "source": [
    "#find tf-idf for test\n",
    "X_test_tfidf = tfidf_vectorizer.transform(X_test_text)\n",
    "print(X_test_tfidf.shape)"
   ]
  },
  {
   "cell_type": "markdown",
   "metadata": {},
   "source": [
    "### 3.4 NER"
   ]
  },
  {
   "cell_type": "code",
   "execution_count": 45,
   "metadata": {},
   "outputs": [],
   "source": [
    "import spacy\n",
    "ner = spacy.load(\"en_core_web_lg\")"
   ]
  },
  {
   "cell_type": "code",
   "execution_count": 46,
   "metadata": {},
   "outputs": [
    {
     "name": "stdout",
     "output_type": "stream",
     "text": [
      "I’m the guy who puts food in random places in Walmart No reason but I don’t feel like walking back to the other side of the store\n"
     ]
    }
   ],
   "source": [
    "txt = df_train.loc[1,'Text']\n",
    "doc = ner(txt)\n",
    "print(doc)"
   ]
  },
  {
   "cell_type": "code",
   "execution_count": 47,
   "metadata": {},
   "outputs": [
    {
     "data": {
      "text/html": [
       "<span class=\"tex2jax_ignore\"><div class=\"entities\" style=\"line-height: 2.5; direction: ltr\">\n",
       "<mark class=\"entity\" style=\"background: #aa9cfc; padding: 0.45em 0.6em; margin: 0 0.25em; line-height: 1; border-radius: 0.35em;\">\n",
       "    I’m\n",
       "    <span style=\"font-size: 0.8em; font-weight: bold; line-height: 1; border-radius: 0.35em; vertical-align: middle; margin-left: 0.5rem\">PERSON</span>\n",
       "</mark>\n",
       " the guy who puts food in random places in Walmart No reason but I don’t feel like walking back to the other side of the store</div></span>"
      ],
      "text/plain": [
       "<IPython.core.display.HTML object>"
      ]
     },
     "metadata": {},
     "output_type": "display_data"
    }
   ],
   "source": [
    "spacy.displacy.render(doc, style=\"ent\")"
   ]
  },
  {
   "cell_type": "code",
   "execution_count": 48,
   "metadata": {},
   "outputs": [],
   "source": [
    "import collections\n",
    "\n",
    "def utils_lst_count(lst):\n",
    "    dic_counter = collections.Counter()\n",
    "    \n",
    "    for x in lst:\n",
    "        dic_counter[x] += 1\n",
    "    dic_counter = collections.OrderedDict(sorted(dic_counter.items(), key=lambda x:x[1], reverse=True))\n",
    "    lst_count = [{key:value} for key, value in dic_counter.items()]\n",
    "    \n",
    "    return lst_count"
   ]
  },
  {
   "cell_type": "code",
   "execution_count": 49,
   "metadata": {},
   "outputs": [
    {
     "name": "stderr",
     "output_type": "stream",
     "text": [
      "100%|██████████████████████████████████████████████████████████████████████████████| 1269/1269 [00:17<00:00, 71.84it/s]\n",
      "100%|██████████████████████████████████████████████████████████████████████████| 1269/1269 [00:00<00:00, 248695.06it/s]\n"
     ]
    }
   ],
   "source": [
    "#get tags for each ner in train data\n",
    "df_train['tags'] = df_train['Text'].progress_apply(lambda text:[(tag.text, tag.label_) for tag in ner(text).ents])\n",
    "#count tags\n",
    "df_train['tags'] = df_train['tags'].progress_apply(lambda x: utils_lst_count(x))"
   ]
  },
  {
   "cell_type": "code",
   "execution_count": 50,
   "metadata": {},
   "outputs": [
    {
     "data": {
      "text/html": [
       "<div>\n",
       "<style scoped>\n",
       "    .dataframe tbody tr th:only-of-type {\n",
       "        vertical-align: middle;\n",
       "    }\n",
       "\n",
       "    .dataframe tbody tr th {\n",
       "        vertical-align: top;\n",
       "    }\n",
       "\n",
       "    .dataframe thead th {\n",
       "        text-align: right;\n",
       "    }\n",
       "</style>\n",
       "<table border=\"1\" class=\"dataframe\">\n",
       "  <thead>\n",
       "    <tr style=\"text-align: right;\">\n",
       "      <th></th>\n",
       "      <th>author</th>\n",
       "      <th>postdate</th>\n",
       "      <th>subreddit</th>\n",
       "      <th>Text</th>\n",
       "      <th>Word_count</th>\n",
       "      <th>Outcome</th>\n",
       "      <th>Text_processed</th>\n",
       "      <th>Textblob_score</th>\n",
       "      <th>Vader_score</th>\n",
       "      <th>tags</th>\n",
       "    </tr>\n",
       "  </thead>\n",
       "  <tbody>\n",
       "    <tr>\n",
       "      <th>0</th>\n",
       "      <td>TFDP117</td>\n",
       "      <td>2020-07-03 03:02:00</td>\n",
       "      <td>suicide watch</td>\n",
       "      <td>My family and friends are the only thing keepi...</td>\n",
       "      <td>25</td>\n",
       "      <td>1.0</td>\n",
       "      <td>family friend thing keeping suicide reason liv...</td>\n",
       "      <td>0.0000</td>\n",
       "      <td>-0.3182</td>\n",
       "      <td>[]</td>\n",
       "    </tr>\n",
       "    <tr>\n",
       "      <th>1</th>\n",
       "      <td>jaleel364</td>\n",
       "      <td>2020-02-14 08:28:00</td>\n",
       "      <td>confession</td>\n",
       "      <td>I’m the guy who puts food in random places in ...</td>\n",
       "      <td>27</td>\n",
       "      <td>0.0</td>\n",
       "      <td>guy put food random place walmart reason feel ...</td>\n",
       "      <td>-0.2500</td>\n",
       "      <td>0.3612</td>\n",
       "      <td>[{('I’m', 'PERSON'): 1}]</td>\n",
       "    </tr>\n",
       "    <tr>\n",
       "      <th>2</th>\n",
       "      <td>mabbers110</td>\n",
       "      <td>2020-03-16 07:47:00</td>\n",
       "      <td>depression</td>\n",
       "      <td>Has anyone here had their life completely turn...</td>\n",
       "      <td>126</td>\n",
       "      <td>0.0</td>\n",
       "      <td>anyone life completely turned around currently...</td>\n",
       "      <td>0.0205</td>\n",
       "      <td>-0.9568</td>\n",
       "      <td>[]</td>\n",
       "    </tr>\n",
       "    <tr>\n",
       "      <th>3</th>\n",
       "      <td>AdrianaAura-</td>\n",
       "      <td>2020-08-03 12:44:00</td>\n",
       "      <td>suicide watch</td>\n",
       "      <td>i'm so tired and cold i'm tired\\n\\nand i just ...</td>\n",
       "      <td>42</td>\n",
       "      <td>1.0</td>\n",
       "      <td>tired cold tired want school life fucking joke...</td>\n",
       "      <td>-0.3417</td>\n",
       "      <td>-0.8994</td>\n",
       "      <td>[]</td>\n",
       "    </tr>\n",
       "    <tr>\n",
       "      <th>4</th>\n",
       "      <td>vizzy111</td>\n",
       "      <td>2020-03-24 17:05:00</td>\n",
       "      <td>suicide watch</td>\n",
       "      <td>They said ma days are numbered, but I keep wak...</td>\n",
       "      <td>23</td>\n",
       "      <td>0.0</td>\n",
       "      <td>said day numbered keep waking think world stil...</td>\n",
       "      <td>-0.5000</td>\n",
       "      <td>-0.3182</td>\n",
       "      <td>[{('days', 'DATE'): 1}, {('Rip', 'PERSON'): 1}]</td>\n",
       "    </tr>\n",
       "  </tbody>\n",
       "</table>\n",
       "</div>"
      ],
      "text/plain": [
       "         author             postdate      subreddit  \\\n",
       "0       TFDP117  2020-07-03 03:02:00  suicide watch   \n",
       "1     jaleel364  2020-02-14 08:28:00     confession   \n",
       "2    mabbers110  2020-03-16 07:47:00     depression   \n",
       "3  AdrianaAura-  2020-08-03 12:44:00  suicide watch   \n",
       "4      vizzy111  2020-03-24 17:05:00  suicide watch   \n",
       "\n",
       "                                                Text  Word_count  Outcome  \\\n",
       "0  My family and friends are the only thing keepi...          25      1.0   \n",
       "1  I’m the guy who puts food in random places in ...          27      0.0   \n",
       "2  Has anyone here had their life completely turn...         126      0.0   \n",
       "3  i'm so tired and cold i'm tired\\n\\nand i just ...          42      1.0   \n",
       "4  They said ma days are numbered, but I keep wak...          23      0.0   \n",
       "\n",
       "                                      Text_processed  Textblob_score  \\\n",
       "0  family friend thing keeping suicide reason liv...          0.0000   \n",
       "1  guy put food random place walmart reason feel ...         -0.2500   \n",
       "2  anyone life completely turned around currently...          0.0205   \n",
       "3  tired cold tired want school life fucking joke...         -0.3417   \n",
       "4  said day numbered keep waking think world stil...         -0.5000   \n",
       "\n",
       "   Vader_score                                             tags  \n",
       "0      -0.3182                                               []  \n",
       "1       0.3612                         [{('I’m', 'PERSON'): 1}]  \n",
       "2      -0.9568                                               []  \n",
       "3      -0.8994                                               []  \n",
       "4      -0.3182  [{('days', 'DATE'): 1}, {('Rip', 'PERSON'): 1}]  "
      ]
     },
     "execution_count": 50,
     "metadata": {},
     "output_type": "execute_result"
    }
   ],
   "source": [
    "df_train.head()"
   ]
  },
  {
   "cell_type": "code",
   "execution_count": 51,
   "metadata": {},
   "outputs": [],
   "source": [
    "def utils_ner_features(lst_dics_tuples, tag):\n",
    "    if len(lst_dics_tuples)>0:\n",
    "        tag_type = []\n",
    "        for dic_tuples in lst_dics_tuples:\n",
    "            for tuple in dic_tuples:\n",
    "                type, n = tuple[1], dic_tuples[tuple]\n",
    "                tag_type = tag_type + [type]*n\n",
    "                dic_counter = collections.Counter()\n",
    "                for x in tag_type:\n",
    "                    dic_counter[x] += 1\n",
    "        return dic_counter[tag]\n",
    "    else:\n",
    "        return 0"
   ]
  },
  {
   "cell_type": "code",
   "execution_count": 52,
   "metadata": {},
   "outputs": [
    {
     "name": "stdout",
     "output_type": "stream",
     "text": [
      "['MONEY', 'WORK_OF_ART', 'FAC', 'DATE', 'EVENT']\n",
      "18\n"
     ]
    }
   ],
   "source": [
    "#extract tag features\n",
    "tags_set = []\n",
    "for lst in df_train['tags'].tolist():\n",
    "    for dic in lst:\n",
    "        for k in dic.keys():\n",
    "            tags_set.append(k[1])\n",
    "            \n",
    "tags_set = list(set(tags_set))\n",
    "#view a few tags\n",
    "print(tags_set[0:5])\n",
    "print(len(tags_set))"
   ]
  },
  {
   "cell_type": "code",
   "execution_count": 53,
   "metadata": {},
   "outputs": [
    {
     "name": "stderr",
     "output_type": "stream",
     "text": [
      "100%|██████████████████████████████████████████████████████████████████████████| 1269/1269 [00:00<00:00, 226069.14it/s]\n",
      "100%|██████████████████████████████████████████████████████████████████████████| 1269/1269 [00:00<00:00, 226069.14it/s]\n",
      "100%|██████████████████████████████████████████████████████████████████████████| 1269/1269 [00:00<00:00, 248671.83it/s]\n",
      "100%|██████████████████████████████████████████████████████████████████████████| 1269/1269 [00:00<00:00, 248636.98it/s]\n",
      "100%|██████████████████████████████████████████████████████████████████████████| 1269/1269 [00:00<00:00, 248718.31it/s]\n",
      "100%|██████████████████████████████████████████████████████████████████████████| 1269/1269 [00:00<00:00, 226040.34it/s]\n",
      "100%|██████████████████████████████████████████████████████████████████████████| 1269/1269 [00:00<00:00, 226049.94it/s]\n",
      "100%|██████████████████████████████████████████████████████████████████████████| 1269/1269 [00:00<00:00, 248671.83it/s]\n",
      "100%|██████████████████████████████████████████████████████████████████████████| 1269/1269 [00:00<00:00, 276353.67it/s]\n",
      "100%|██████████████████████████████████████████████████████████████████████████| 1269/1269 [00:00<00:00, 248741.55it/s]\n",
      "100%|██████████████████████████████████████████████████████████████████████████| 1269/1269 [00:00<00:00, 226097.95it/s]\n",
      "100%|██████████████████████████████████████████████████████████████████████████| 1269/1269 [00:00<00:00, 248729.93it/s]\n",
      "100%|██████████████████████████████████████████████████████████████████████████| 1269/1269 [00:00<00:00, 226069.14it/s]\n",
      "100%|██████████████████████████████████████████████████████████████████████████| 1269/1269 [00:00<00:00, 226078.74it/s]\n",
      "100%|██████████████████████████████████████████████████████████████████████████| 1269/1269 [00:00<00:00, 248706.69it/s]\n",
      "100%|██████████████████████████████████████████████████████████████████████████| 1269/1269 [00:00<00:00, 226049.94it/s]\n",
      "100%|██████████████████████████████████████████████████████████████████████████| 1269/1269 [00:00<00:00, 248671.83it/s]\n",
      "100%|██████████████████████████████████████████████████████████████████████████| 1269/1269 [00:00<00:00, 248706.69it/s]\n"
     ]
    }
   ],
   "source": [
    "#OHC each feature\n",
    "for feature in tags_set:\n",
    "    df_train['tags_'+feature] = df_train['tags'].progress_apply(lambda x: utils_ner_features(x, feature))"
   ]
  },
  {
   "cell_type": "code",
   "execution_count": 54,
   "metadata": {},
   "outputs": [
    {
     "data": {
      "text/html": [
       "<div>\n",
       "<style scoped>\n",
       "    .dataframe tbody tr th:only-of-type {\n",
       "        vertical-align: middle;\n",
       "    }\n",
       "\n",
       "    .dataframe tbody tr th {\n",
       "        vertical-align: top;\n",
       "    }\n",
       "\n",
       "    .dataframe thead th {\n",
       "        text-align: right;\n",
       "    }\n",
       "</style>\n",
       "<table border=\"1\" class=\"dataframe\">\n",
       "  <thead>\n",
       "    <tr style=\"text-align: right;\">\n",
       "      <th></th>\n",
       "      <th>author</th>\n",
       "      <th>postdate</th>\n",
       "      <th>subreddit</th>\n",
       "      <th>Text</th>\n",
       "      <th>Word_count</th>\n",
       "      <th>Outcome</th>\n",
       "      <th>Text_processed</th>\n",
       "      <th>Textblob_score</th>\n",
       "      <th>Vader_score</th>\n",
       "      <th>tags</th>\n",
       "      <th>...</th>\n",
       "      <th>tags_NORP</th>\n",
       "      <th>tags_PRODUCT</th>\n",
       "      <th>tags_LAW</th>\n",
       "      <th>tags_ORDINAL</th>\n",
       "      <th>tags_PERCENT</th>\n",
       "      <th>tags_LANGUAGE</th>\n",
       "      <th>tags_LOC</th>\n",
       "      <th>tags_QUANTITY</th>\n",
       "      <th>tags_PERSON</th>\n",
       "      <th>tags_CARDINAL</th>\n",
       "    </tr>\n",
       "  </thead>\n",
       "  <tbody>\n",
       "    <tr>\n",
       "      <th>0</th>\n",
       "      <td>TFDP117</td>\n",
       "      <td>2020-07-03 03:02:00</td>\n",
       "      <td>suicide watch</td>\n",
       "      <td>My family and friends are the only thing keepi...</td>\n",
       "      <td>25</td>\n",
       "      <td>1.0</td>\n",
       "      <td>family friend thing keeping suicide reason liv...</td>\n",
       "      <td>0.0000</td>\n",
       "      <td>-0.3182</td>\n",
       "      <td>[]</td>\n",
       "      <td>...</td>\n",
       "      <td>0</td>\n",
       "      <td>0</td>\n",
       "      <td>0</td>\n",
       "      <td>0</td>\n",
       "      <td>0</td>\n",
       "      <td>0</td>\n",
       "      <td>0</td>\n",
       "      <td>0</td>\n",
       "      <td>0</td>\n",
       "      <td>0</td>\n",
       "    </tr>\n",
       "    <tr>\n",
       "      <th>1</th>\n",
       "      <td>jaleel364</td>\n",
       "      <td>2020-02-14 08:28:00</td>\n",
       "      <td>confession</td>\n",
       "      <td>I’m the guy who puts food in random places in ...</td>\n",
       "      <td>27</td>\n",
       "      <td>0.0</td>\n",
       "      <td>guy put food random place walmart reason feel ...</td>\n",
       "      <td>-0.2500</td>\n",
       "      <td>0.3612</td>\n",
       "      <td>[{('I’m', 'PERSON'): 1}]</td>\n",
       "      <td>...</td>\n",
       "      <td>0</td>\n",
       "      <td>0</td>\n",
       "      <td>0</td>\n",
       "      <td>0</td>\n",
       "      <td>0</td>\n",
       "      <td>0</td>\n",
       "      <td>0</td>\n",
       "      <td>0</td>\n",
       "      <td>1</td>\n",
       "      <td>0</td>\n",
       "    </tr>\n",
       "    <tr>\n",
       "      <th>2</th>\n",
       "      <td>mabbers110</td>\n",
       "      <td>2020-03-16 07:47:00</td>\n",
       "      <td>depression</td>\n",
       "      <td>Has anyone here had their life completely turn...</td>\n",
       "      <td>126</td>\n",
       "      <td>0.0</td>\n",
       "      <td>anyone life completely turned around currently...</td>\n",
       "      <td>0.0205</td>\n",
       "      <td>-0.9568</td>\n",
       "      <td>[]</td>\n",
       "      <td>...</td>\n",
       "      <td>0</td>\n",
       "      <td>0</td>\n",
       "      <td>0</td>\n",
       "      <td>0</td>\n",
       "      <td>0</td>\n",
       "      <td>0</td>\n",
       "      <td>0</td>\n",
       "      <td>0</td>\n",
       "      <td>0</td>\n",
       "      <td>0</td>\n",
       "    </tr>\n",
       "    <tr>\n",
       "      <th>3</th>\n",
       "      <td>AdrianaAura-</td>\n",
       "      <td>2020-08-03 12:44:00</td>\n",
       "      <td>suicide watch</td>\n",
       "      <td>i'm so tired and cold i'm tired\\n\\nand i just ...</td>\n",
       "      <td>42</td>\n",
       "      <td>1.0</td>\n",
       "      <td>tired cold tired want school life fucking joke...</td>\n",
       "      <td>-0.3417</td>\n",
       "      <td>-0.8994</td>\n",
       "      <td>[]</td>\n",
       "      <td>...</td>\n",
       "      <td>0</td>\n",
       "      <td>0</td>\n",
       "      <td>0</td>\n",
       "      <td>0</td>\n",
       "      <td>0</td>\n",
       "      <td>0</td>\n",
       "      <td>0</td>\n",
       "      <td>0</td>\n",
       "      <td>0</td>\n",
       "      <td>0</td>\n",
       "    </tr>\n",
       "    <tr>\n",
       "      <th>4</th>\n",
       "      <td>vizzy111</td>\n",
       "      <td>2020-03-24 17:05:00</td>\n",
       "      <td>suicide watch</td>\n",
       "      <td>They said ma days are numbered, but I keep wak...</td>\n",
       "      <td>23</td>\n",
       "      <td>0.0</td>\n",
       "      <td>said day numbered keep waking think world stil...</td>\n",
       "      <td>-0.5000</td>\n",
       "      <td>-0.3182</td>\n",
       "      <td>[{('days', 'DATE'): 1}, {('Rip', 'PERSON'): 1}]</td>\n",
       "      <td>...</td>\n",
       "      <td>0</td>\n",
       "      <td>0</td>\n",
       "      <td>0</td>\n",
       "      <td>0</td>\n",
       "      <td>0</td>\n",
       "      <td>0</td>\n",
       "      <td>0</td>\n",
       "      <td>0</td>\n",
       "      <td>1</td>\n",
       "      <td>0</td>\n",
       "    </tr>\n",
       "  </tbody>\n",
       "</table>\n",
       "<p>5 rows × 28 columns</p>\n",
       "</div>"
      ],
      "text/plain": [
       "         author             postdate      subreddit  \\\n",
       "0       TFDP117  2020-07-03 03:02:00  suicide watch   \n",
       "1     jaleel364  2020-02-14 08:28:00     confession   \n",
       "2    mabbers110  2020-03-16 07:47:00     depression   \n",
       "3  AdrianaAura-  2020-08-03 12:44:00  suicide watch   \n",
       "4      vizzy111  2020-03-24 17:05:00  suicide watch   \n",
       "\n",
       "                                                Text  Word_count  Outcome  \\\n",
       "0  My family and friends are the only thing keepi...          25      1.0   \n",
       "1  I’m the guy who puts food in random places in ...          27      0.0   \n",
       "2  Has anyone here had their life completely turn...         126      0.0   \n",
       "3  i'm so tired and cold i'm tired\\n\\nand i just ...          42      1.0   \n",
       "4  They said ma days are numbered, but I keep wak...          23      0.0   \n",
       "\n",
       "                                      Text_processed  Textblob_score  \\\n",
       "0  family friend thing keeping suicide reason liv...          0.0000   \n",
       "1  guy put food random place walmart reason feel ...         -0.2500   \n",
       "2  anyone life completely turned around currently...          0.0205   \n",
       "3  tired cold tired want school life fucking joke...         -0.3417   \n",
       "4  said day numbered keep waking think world stil...         -0.5000   \n",
       "\n",
       "   Vader_score                                             tags  ...  \\\n",
       "0      -0.3182                                               []  ...   \n",
       "1       0.3612                         [{('I’m', 'PERSON'): 1}]  ...   \n",
       "2      -0.9568                                               []  ...   \n",
       "3      -0.8994                                               []  ...   \n",
       "4      -0.3182  [{('days', 'DATE'): 1}, {('Rip', 'PERSON'): 1}]  ...   \n",
       "\n",
       "   tags_NORP  tags_PRODUCT  tags_LAW  tags_ORDINAL  tags_PERCENT  \\\n",
       "0          0             0         0             0             0   \n",
       "1          0             0         0             0             0   \n",
       "2          0             0         0             0             0   \n",
       "3          0             0         0             0             0   \n",
       "4          0             0         0             0             0   \n",
       "\n",
       "   tags_LANGUAGE  tags_LOC  tags_QUANTITY  tags_PERSON  tags_CARDINAL  \n",
       "0              0         0              0            0              0  \n",
       "1              0         0              0            1              0  \n",
       "2              0         0              0            0              0  \n",
       "3              0         0              0            0              0  \n",
       "4              0         0              0            1              0  \n",
       "\n",
       "[5 rows x 28 columns]"
      ]
     },
     "execution_count": 54,
     "metadata": {},
     "output_type": "execute_result"
    }
   ],
   "source": [
    "df_train.head()"
   ]
  },
  {
   "cell_type": "code",
   "execution_count": 55,
   "metadata": {},
   "outputs": [
    {
     "data": {
      "image/png": "[encoded data removed]",
      "text/plain": [
       "<Figure size 432x288 with 1 Axes>"
      ]
     },
     "metadata": {
      "needs_background": "light"
     },
     "output_type": "display_data"
    }
   ],
   "source": [
    "#outcome = 0\n",
    "tags_list = df_train[df_train['Outcome']==0]['tags'].sum()\n",
    "map_lst = list(map(lambda x: list(x.keys())[0], tags_list))\n",
    "dtf_tags = pd.DataFrame(map_lst, columns=['tag','type'])\n",
    "dtf_tags[\"count\"] = 1\n",
    "dtf_tags = dtf_tags.groupby(['type', 'tag']).count().reset_index().sort_values('count', ascending=False)\n",
    "fig, ax = plt.subplots()\n",
    "fig.suptitle(\"Top frequent tags of outcome 0\", fontsize=12)\n",
    "sns.barplot(x=\"count\", y=\"tag\", hue=\"type\", \n",
    "data=dtf_tags.iloc[:10,:], dodge=False, ax=ax)\n",
    "ax.grid(axis=\"x\")\n",
    "plt.title('outcome 0')\n",
    "plt.show()\n"
   ]
  },
  {
   "cell_type": "code",
   "execution_count": 56,
   "metadata": {},
   "outputs": [
    {
     "data": {
      "image/png": "[encoded data removed]",
      "text/plain": [
       "<Figure size 432x288 with 1 Axes>"
      ]
     },
     "metadata": {
      "needs_background": "light"
     },
     "output_type": "display_data"
    }
   ],
   "source": [
    "#outcome = 1\n",
    "tags_list = df_train[df_train['Outcome']==1]['tags'].sum()\n",
    "map_lst = list(map(lambda x: list(x.keys())[0], tags_list))\n",
    "dtf_tags = pd.DataFrame(map_lst, columns=['tag','type'])\n",
    "dtf_tags[\"count\"] = 1\n",
    "dtf_tags = dtf_tags.groupby(['type', 'tag']).count().reset_index().sort_values('count', ascending=False)\n",
    "fig, ax = plt.subplots()\n",
    "fig.suptitle(\"Top frequent tags of outcome 1\", fontsize=12)\n",
    "sns.barplot(x=\"count\", y=\"tag\", hue=\"type\", \n",
    "data=dtf_tags.iloc[:10,:], dodge=False, ax=ax)\n",
    "ax.grid(axis=\"x\")\n",
    "plt.title('outcome 1')\n",
    "plt.show()\n"
   ]
  },
  {
   "cell_type": "code",
   "execution_count": 57,
   "metadata": {},
   "outputs": [
    {
     "data": {
      "image/png": "[encoded data removed]",
      "text/plain": [
       "<Figure size 432x288 with 1 Axes>"
      ]
     },
     "metadata": {
      "needs_background": "light"
     },
     "output_type": "display_data"
    }
   ],
   "source": [
    "#outcome = 2\n",
    "tags_list = df_train[df_train['Outcome']==2]['tags'].sum()\n",
    "map_lst = list(map(lambda x: list(x.keys())[0], tags_list))\n",
    "dtf_tags = pd.DataFrame(map_lst, columns=['tag','type'])\n",
    "dtf_tags[\"count\"] = 1\n",
    "dtf_tags = dtf_tags.groupby(['type', 'tag']).count().reset_index().sort_values('count', ascending=False)\n",
    "fig, ax = plt.subplots()\n",
    "fig.suptitle(\"Top frequent tags of outcome 2\", fontsize=12)\n",
    "sns.barplot(x=\"count\", y=\"tag\", hue=\"type\", \n",
    "data=dtf_tags.iloc[:10,:], dodge=False, ax=ax)\n",
    "ax.grid(axis=\"x\")\n",
    "plt.show()\n"
   ]
  },
  {
   "cell_type": "code",
   "execution_count": 58,
   "metadata": {},
   "outputs": [
    {
     "name": "stderr",
     "output_type": "stream",
     "text": [
      "100%|████████████████████████████████████████████████████████████████████████████████| 318/318 [00:04<00:00, 77.32it/s]\n",
      "100%|████████████████████████████████████████████████████████████████████████████| 318/318 [00:00<00:00, 207528.97it/s]\n"
     ]
    }
   ],
   "source": [
    "#get tags for each ner in test data\n",
    "df_test['tags'] = df_test['Text'].progress_apply(lambda text:[(tag.text, tag.label_) for tag in ner(text).ents])\n",
    "#count tags\n",
    "df_test['tags'] = df_test['tags'].progress_apply(lambda x: utils_lst_count(x))"
   ]
  },
  {
   "cell_type": "code",
   "execution_count": 59,
   "metadata": {},
   "outputs": [
    {
     "name": "stdout",
     "output_type": "stream",
     "text": [
      "['MONEY', 'WORK_OF_ART', 'FAC', 'DATE', 'EVENT']\n",
      "18\n"
     ]
    }
   ],
   "source": [
    "#extract tag features in test data\n",
    "tags_set_test = []\n",
    "for lst in df_train['tags'].tolist():\n",
    "    for dic in lst:\n",
    "        for k in dic.keys():\n",
    "            tags_set_test.append(k[1])\n",
    "            \n",
    "tags_set_test = list(set(tags_set_test))\n",
    "#view a few tags\n",
    "print(tags_set_test[0:5])\n",
    "print(len(tags_set_test))"
   ]
  },
  {
   "cell_type": "code",
   "execution_count": 60,
   "metadata": {},
   "outputs": [
    {
     "data": {
      "text/plain": [
       "True"
      ]
     },
     "execution_count": 60,
     "metadata": {},
     "output_type": "execute_result"
    }
   ],
   "source": [
    "#check if train and test data have same features\n",
    "tags_set_test == tags_set"
   ]
  },
  {
   "cell_type": "code",
   "execution_count": 61,
   "metadata": {},
   "outputs": [
    {
     "name": "stderr",
     "output_type": "stream",
     "text": [
      "100%|████████████████████████████████████████████████████████████████████████████| 318/318 [00:00<00:00, 207625.88it/s]\n",
      "100%|████████████████████████████████████████████████████████████████████████████| 318/318 [00:00<00:00, 207755.24it/s]\n",
      "100%|████████████████████████████████████████████████████████████████████████████| 318/318 [00:00<00:00, 207722.89it/s]\n",
      "100%|████████████████████████████████████████████████████████████████████████████| 318/318 [00:00<00:00, 207787.61it/s]\n",
      "100%|████████████████████████████████████████████████████████████████████████████| 318/318 [00:00<00:00, 207787.61it/s]\n",
      "100%|████████████████████████████████████████████████████████████████████████████| 318/318 [00:00<00:00, 207722.89it/s]\n",
      "100%|████████████████████████████████████████████████████████████████████████████| 318/318 [00:00<00:00, 155852.85it/s]\n",
      "100%|████████████████████████████████████████████████████████████████████████████| 318/318 [00:00<00:00, 207819.99it/s]\n",
      "100%|████████████████████████████████████████████████████████████████████████████| 318/318 [00:00<00:00, 207755.24it/s]\n",
      "100%|████████████████████████████████████████████████████████████████████████████| 318/318 [00:00<00:00, 207690.54it/s]\n",
      "100%|████████████████████████████████████████████████████████████████████████████| 318/318 [00:00<00:00, 207787.61it/s]\n",
      "100%|████████████████████████████████████████████████████████████████████████████| 318/318 [00:00<00:00, 207852.37it/s]\n",
      "100%|████████████████████████████████████████████████████████████████████████████| 318/318 [00:00<00:00, 311778.56it/s]\n",
      "100%|████████████████████████████████████████████████████████████████████████████| 318/318 [00:00<00:00, 207755.24it/s]\n",
      "100%|████████████████████████████████████████████████████████████████████████████| 318/318 [00:00<00:00, 207787.61it/s]\n",
      "100%|████████████████████████████████████████████████████████████████████████████| 318/318 [00:00<00:00, 207852.37it/s]\n",
      "100%|████████████████████████████████████████████████████████████████████████████| 318/318 [00:00<00:00, 207787.61it/s]\n",
      "100%|████████████████████████████████████████████████████████████████████████████| 318/318 [00:00<00:00, 207722.89it/s]\n"
     ]
    }
   ],
   "source": [
    "#OHC each feature in test data\n",
    "for feature in tags_set:\n",
    "    df_test['tags_'+feature] = df_test['tags'].progress_apply(lambda x: utils_ner_features(x, feature))"
   ]
  },
  {
   "cell_type": "code",
   "execution_count": 62,
   "metadata": {},
   "outputs": [
    {
     "data": {
      "text/html": [
       "<div>\n",
       "<style scoped>\n",
       "    .dataframe tbody tr th:only-of-type {\n",
       "        vertical-align: middle;\n",
       "    }\n",
       "\n",
       "    .dataframe tbody tr th {\n",
       "        vertical-align: top;\n",
       "    }\n",
       "\n",
       "    .dataframe thead th {\n",
       "        text-align: right;\n",
       "    }\n",
       "</style>\n",
       "<table border=\"1\" class=\"dataframe\">\n",
       "  <thead>\n",
       "    <tr style=\"text-align: right;\">\n",
       "      <th></th>\n",
       "      <th>author</th>\n",
       "      <th>postdate</th>\n",
       "      <th>subreddit</th>\n",
       "      <th>Text</th>\n",
       "      <th>Word_count</th>\n",
       "      <th>Outcome</th>\n",
       "      <th>Text_processed</th>\n",
       "      <th>Textblob_score</th>\n",
       "      <th>Vader_score</th>\n",
       "      <th>tags</th>\n",
       "      <th>...</th>\n",
       "      <th>tags_NORP</th>\n",
       "      <th>tags_PRODUCT</th>\n",
       "      <th>tags_LAW</th>\n",
       "      <th>tags_ORDINAL</th>\n",
       "      <th>tags_PERCENT</th>\n",
       "      <th>tags_LANGUAGE</th>\n",
       "      <th>tags_LOC</th>\n",
       "      <th>tags_QUANTITY</th>\n",
       "      <th>tags_PERSON</th>\n",
       "      <th>tags_CARDINAL</th>\n",
       "    </tr>\n",
       "  </thead>\n",
       "  <tbody>\n",
       "    <tr>\n",
       "      <th>0</th>\n",
       "      <td>ASOBITAIx4</td>\n",
       "      <td>2020-03-28 03:44:00</td>\n",
       "      <td>confession</td>\n",
       "      <td>My boss said I have a good work ethic when I s...</td>\n",
       "      <td>60</td>\n",
       "      <td>0.0</td>\n",
       "      <td>bos said good work ethic spend half workday pl...</td>\n",
       "      <td>-0.1264</td>\n",
       "      <td>0.6249</td>\n",
       "      <td>[{('a few work hours', 'TIME'): 1}]</td>\n",
       "      <td>...</td>\n",
       "      <td>0</td>\n",
       "      <td>0</td>\n",
       "      <td>0</td>\n",
       "      <td>0</td>\n",
       "      <td>0</td>\n",
       "      <td>0</td>\n",
       "      <td>0</td>\n",
       "      <td>0</td>\n",
       "      <td>0</td>\n",
       "      <td>0</td>\n",
       "    </tr>\n",
       "    <tr>\n",
       "      <th>1</th>\n",
       "      <td>crushedweek</td>\n",
       "      <td>2020-03-27 17:19:00</td>\n",
       "      <td>depression</td>\n",
       "      <td>I feel like I'm not depressed I don't have a r...</td>\n",
       "      <td>134</td>\n",
       "      <td>1.0</td>\n",
       "      <td>feel like depressed real good reason deserve d...</td>\n",
       "      <td>0.0147</td>\n",
       "      <td>-0.9110</td>\n",
       "      <td>[{('first', 'ORDINAL'): 1}]</td>\n",
       "      <td>...</td>\n",
       "      <td>0</td>\n",
       "      <td>0</td>\n",
       "      <td>0</td>\n",
       "      <td>1</td>\n",
       "      <td>0</td>\n",
       "      <td>0</td>\n",
       "      <td>0</td>\n",
       "      <td>0</td>\n",
       "      <td>0</td>\n",
       "      <td>0</td>\n",
       "    </tr>\n",
       "    <tr>\n",
       "      <th>2</th>\n",
       "      <td>tylermufc10</td>\n",
       "      <td>2020-02-27 07:50:00</td>\n",
       "      <td>confession</td>\n",
       "      <td>I used to snort sherbert from the corner shop ...</td>\n",
       "      <td>58</td>\n",
       "      <td>0.0</td>\n",
       "      <td>used snort sherbert corner shop innit understa...</td>\n",
       "      <td>-0.0403</td>\n",
       "      <td>0.4417</td>\n",
       "      <td>[{('British', 'NORP'): 1}]</td>\n",
       "      <td>...</td>\n",
       "      <td>1</td>\n",
       "      <td>0</td>\n",
       "      <td>0</td>\n",
       "      <td>0</td>\n",
       "      <td>0</td>\n",
       "      <td>0</td>\n",
       "      <td>0</td>\n",
       "      <td>0</td>\n",
       "      <td>0</td>\n",
       "      <td>0</td>\n",
       "    </tr>\n",
       "    <tr>\n",
       "      <th>3</th>\n",
       "      <td>BleachtrumpsNaruto</td>\n",
       "      <td>2020-09-02 04:52:00</td>\n",
       "      <td>confession</td>\n",
       "      <td>I caused someone to die because of a seemingly...</td>\n",
       "      <td>201</td>\n",
       "      <td>0.0</td>\n",
       "      <td>caused someone die seemingly meaningless decis...</td>\n",
       "      <td>-0.0965</td>\n",
       "      <td>-0.9001</td>\n",
       "      <td>[{('Mozambique', 'GPE'): 2}, {('Africa', 'LOC'...</td>\n",
       "      <td>...</td>\n",
       "      <td>0</td>\n",
       "      <td>0</td>\n",
       "      <td>0</td>\n",
       "      <td>0</td>\n",
       "      <td>0</td>\n",
       "      <td>0</td>\n",
       "      <td>1</td>\n",
       "      <td>0</td>\n",
       "      <td>0</td>\n",
       "      <td>0</td>\n",
       "    </tr>\n",
       "    <tr>\n",
       "      <th>4</th>\n",
       "      <td>Nillend</td>\n",
       "      <td>2020-03-30 05:44:00</td>\n",
       "      <td>depression</td>\n",
       "      <td>I often wonder why do I even bother Nothing I ...</td>\n",
       "      <td>24</td>\n",
       "      <td>0.0</td>\n",
       "      <td>often wonder even bother nothing ever good eno...</td>\n",
       "      <td>0.2333</td>\n",
       "      <td>-0.5967</td>\n",
       "      <td>[]</td>\n",
       "      <td>...</td>\n",
       "      <td>0</td>\n",
       "      <td>0</td>\n",
       "      <td>0</td>\n",
       "      <td>0</td>\n",
       "      <td>0</td>\n",
       "      <td>0</td>\n",
       "      <td>0</td>\n",
       "      <td>0</td>\n",
       "      <td>0</td>\n",
       "      <td>0</td>\n",
       "    </tr>\n",
       "  </tbody>\n",
       "</table>\n",
       "<p>5 rows × 28 columns</p>\n",
       "</div>"
      ],
      "text/plain": [
       "               author             postdate   subreddit  \\\n",
       "0          ASOBITAIx4  2020-03-28 03:44:00  confession   \n",
       "1         crushedweek  2020-03-27 17:19:00  depression   \n",
       "2         tylermufc10  2020-02-27 07:50:00  confession   \n",
       "3  BleachtrumpsNaruto  2020-09-02 04:52:00  confession   \n",
       "4             Nillend  2020-03-30 05:44:00  depression   \n",
       "\n",
       "                                                Text  Word_count  Outcome  \\\n",
       "0  My boss said I have a good work ethic when I s...          60      0.0   \n",
       "1  I feel like I'm not depressed I don't have a r...         134      1.0   \n",
       "2  I used to snort sherbert from the corner shop ...          58      0.0   \n",
       "3  I caused someone to die because of a seemingly...         201      0.0   \n",
       "4  I often wonder why do I even bother Nothing I ...          24      0.0   \n",
       "\n",
       "                                      Text_processed  Textblob_score  \\\n",
       "0  bos said good work ethic spend half workday pl...         -0.1264   \n",
       "1  feel like depressed real good reason deserve d...          0.0147   \n",
       "2  used snort sherbert corner shop innit understa...         -0.0403   \n",
       "3  caused someone die seemingly meaningless decis...         -0.0965   \n",
       "4  often wonder even bother nothing ever good eno...          0.2333   \n",
       "\n",
       "   Vader_score                                               tags  ...  \\\n",
       "0       0.6249                [{('a few work hours', 'TIME'): 1}]  ...   \n",
       "1      -0.9110                        [{('first', 'ORDINAL'): 1}]  ...   \n",
       "2       0.4417                         [{('British', 'NORP'): 1}]  ...   \n",
       "3      -0.9001  [{('Mozambique', 'GPE'): 2}, {('Africa', 'LOC'...  ...   \n",
       "4      -0.5967                                                 []  ...   \n",
       "\n",
       "   tags_NORP  tags_PRODUCT  tags_LAW  tags_ORDINAL  tags_PERCENT  \\\n",
       "0          0             0         0             0             0   \n",
       "1          0             0         0             1             0   \n",
       "2          1             0         0             0             0   \n",
       "3          0             0         0             0             0   \n",
       "4          0             0         0             0             0   \n",
       "\n",
       "   tags_LANGUAGE  tags_LOC  tags_QUANTITY  tags_PERSON  tags_CARDINAL  \n",
       "0              0         0              0            0              0  \n",
       "1              0         0              0            0              0  \n",
       "2              0         0              0            0              0  \n",
       "3              0         1              0            0              0  \n",
       "4              0         0              0            0              0  \n",
       "\n",
       "[5 rows x 28 columns]"
      ]
     },
     "execution_count": 62,
     "metadata": {},
     "output_type": "execute_result"
    }
   ],
   "source": [
    "df_test.head()"
   ]
  },
  {
   "cell_type": "code",
   "execution_count": 63,
   "metadata": {},
   "outputs": [
    {
     "name": "stdout",
     "output_type": "stream",
     "text": [
      "Shape of train NER vectors: 1269\n",
      "Shape of test NER vectors: 318\n"
     ]
    }
   ],
   "source": [
    "#Find all NER vectors\n",
    "train_ner_vecs = df_train.loc[:,df_train.columns.str.contains('tags_')].to_numpy()\n",
    "test_ner_vecs = df_test.loc[:,df_train.columns.str.contains('tags_')].to_numpy()\n",
    "\n",
    "print('Shape of train NER vectors:', len(train_ner_vecs))\n",
    "print('Shape of test NER vectors:', len(test_ner_vecs))"
   ]
  },
  {
   "cell_type": "markdown",
   "metadata": {},
   "source": [
    "## 4. Model"
   ]
  },
  {
   "cell_type": "code",
   "execution_count": 64,
   "metadata": {},
   "outputs": [],
   "source": [
    "from sklearn.model_selection import GridSearchCV\n",
    "from sklearn.svm import SVC\n",
    "from sklearn.linear_model import LogisticRegression\n",
    "from sklearn.naive_bayes import MultinomialNB\n",
    "from sklearn.metrics import accuracy_score\n",
    "from sklearn.metrics import f1_score\n",
    "from sklearn.metrics import classification_report\n",
    "from sklearn.metrics import confusion_matrix"
   ]
  },
  {
   "cell_type": "markdown",
   "metadata": {},
   "source": [
    "### 4.1 Model NB: only TF-IDF"
   ]
  },
  {
   "cell_type": "code",
   "execution_count": 65,
   "metadata": {},
   "outputs": [
    {
     "name": "stdout",
     "output_type": "stream",
     "text": [
      "Shape of train data : (1269, 7557)\n",
      "Shape of train data : (318, 7557)\n"
     ]
    }
   ],
   "source": [
    "X_train = X_train_tfidf\n",
    "X_test = X_test_tfidf\n",
    "\n",
    "print('Shape of train data :',X_train.shape)\n",
    "print('Shape of train data :',X_test.shape) "
   ]
  },
  {
   "cell_type": "code",
   "execution_count": 66,
   "metadata": {},
   "outputs": [
    {
     "name": "stdout",
     "output_type": "stream",
     "text": [
      "Dataset shape: (1269, 7557) (1269,)\n",
      "Dataset shape after SMOTE: (2379, 7557) (2379,)\n"
     ]
    }
   ],
   "source": [
    "oversample = SMOTE()\n",
    "print('Dataset shape:',X_train.shape, y_train.shape )\n",
    "X, y = oversample.fit_resample(X_train, y_train)\n",
    "print('Dataset shape after SMOTE:',X.shape, y.shape )"
   ]
  },
  {
   "cell_type": "code",
   "execution_count": 71,
   "metadata": {},
   "outputs": [
    {
     "data": {
      "text/plain": [
       "MultinomialNB()"
      ]
     },
     "execution_count": 71,
     "metadata": {},
     "output_type": "execute_result"
    }
   ],
   "source": [
    "nb = MultinomialNB()\n",
    "nb.fit(X, y)"
   ]
  },
  {
   "cell_type": "code",
   "execution_count": 72,
   "metadata": {},
   "outputs": [
    {
     "name": "stdout",
     "output_type": "stream",
     "text": [
      "Test accuracy: 0.5094339622641509\n",
      "F1 score: 0.4757353333614236\n"
     ]
    }
   ],
   "source": [
    "#Find accuracy score\n",
    "print('Test accuracy:',accuracy_score(y_test, nb.predict(X_test)))\n",
    "print('F1 score:', f1_score(y_test, nb.predict(X_test), average='macro'))"
   ]
  },
  {
   "cell_type": "code",
   "execution_count": 73,
   "metadata": {},
   "outputs": [
    {
     "name": "stdout",
     "output_type": "stream",
     "text": [
      "Test data:\n",
      "\n",
      "              precision    recall  f1-score   support\n",
      "\n",
      "         0.0       0.89      0.42      0.57       199\n",
      "         1.0       0.37      0.75      0.49        80\n",
      "         2.0       0.30      0.46      0.36        39\n",
      "\n",
      "    accuracy                           0.51       318\n",
      "   macro avg       0.52      0.54      0.48       318\n",
      "weighted avg       0.69      0.51      0.53       318\n",
      "\n"
     ]
    }
   ],
   "source": [
    "#Classification report\n",
    "print('Test data:\\n')\n",
    "print(classification_report(y_test, nb.predict(X_test)))"
   ]
  },
  {
   "cell_type": "code",
   "execution_count": 74,
   "metadata": {
    "scrolled": true
   },
   "outputs": [
    {
     "data": {
      "text/plain": [
       "array([[84, 83, 32],\n",
       "       [ 9, 60, 11],\n",
       "       [ 1, 20, 18]], dtype=int64)"
      ]
     },
     "execution_count": 74,
     "metadata": {},
     "output_type": "execute_result"
    }
   ],
   "source": [
    "#Confusion matrix\n",
    "confusion_matrix(y_test, nb.predict(X_test), labels=[0,1,2])"
   ]
  },
  {
   "cell_type": "markdown",
   "metadata": {},
   "source": [
    "### 4.2 Model SVM : TF-IDF + Vader"
   ]
  },
  {
   "cell_type": "code",
   "execution_count": 79,
   "metadata": {
    "scrolled": true
   },
   "outputs": [
    {
     "name": "stdout",
     "output_type": "stream",
     "text": [
      "Shape of train data : (1269, 7558)\n",
      "Shape of train data : (318, 7558)\n"
     ]
    }
   ],
   "source": [
    "train_sentiment_scores = df_train['Vader_score'].to_numpy()\n",
    "test_sentiment_scores = df_test['Vader_score'].to_numpy()\n",
    "\n",
    "train_sentiment_scores = np.reshape(train_sentiment_scores,(-1,1))\n",
    "test_sentiment_scores = np.reshape(test_sentiment_scores,(-1,1))\n",
    "\n",
    "X_train = hstack([X_train_tfidf, train_sentiment_scores])\n",
    "print('Shape of train data :',X_train.shape)\n",
    "\n",
    "X_test = hstack([X_test_tfidf, test_sentiment_scores])\n",
    "print('Shape of train data :',X_test.shape) "
   ]
  },
  {
   "cell_type": "code",
   "execution_count": 80,
   "metadata": {},
   "outputs": [
    {
     "name": "stdout",
     "output_type": "stream",
     "text": [
      "Dataset shape: (1269, 7558) (1269,)\n",
      "Dataset shape after SMOTE: (2379, 7558) (2379,)\n"
     ]
    }
   ],
   "source": [
    "oversample = SMOTE()\n",
    "print('Dataset shape:',X_train.shape, y_train.shape )\n",
    "X, y = oversample.fit_resample(X_train, y_train)\n",
    "print('Dataset shape after SMOTE:',X.shape, y.shape )"
   ]
  },
  {
   "cell_type": "code",
   "execution_count": 85,
   "metadata": {},
   "outputs": [
    {
     "name": "stdout",
     "output_type": "stream",
     "text": [
      "Best: 0.937799 using {'C': 10, 'decision_function_shape': 'ovo', 'gamma': 'scale', 'kernel': 'linear', 'random_state': 1}\n"
     ]
    }
   ],
   "source": [
    "param_grid = {'C': [0.01, 0.05, 0.1, 1, 10, 100], 'gamma': ['scale', 'auto'],'kernel': ['linear','rbf', 'poly', 'sigmoid'], 'decision_function_shape':['ovo'],'random_state' : [1]}\n",
    "\n",
    "grid = GridSearchCV(estimator=SVC(),param_grid=param_grid,cv = 5, scoring='accuracy', n_jobs = -1)\n",
    "\n",
    "grid.fit(X, y)\n",
    "\n",
    "print(\"Best: %f using %s\" % (grid.best_score_, grid.best_params_))"
   ]
  },
  {
   "cell_type": "code",
   "execution_count": 86,
   "metadata": {},
   "outputs": [
    {
     "name": "stdout",
     "output_type": "stream",
     "text": [
      "Test accuracy: 0.6823899371069182\n",
      "F1 score: 0.5435478222490873\n"
     ]
    }
   ],
   "source": [
    "#Find accuracy score\n",
    "print('Test accuracy:',accuracy_score(y_test, grid.predict(X_test)))\n",
    "print('F1 score:', f1_score(y_test, grid.predict(X_test), average='macro'))"
   ]
  },
  {
   "cell_type": "code",
   "execution_count": 87,
   "metadata": {},
   "outputs": [
    {
     "name": "stdout",
     "output_type": "stream",
     "text": [
      "Test data:\n",
      "\n",
      "              precision    recall  f1-score   support\n",
      "\n",
      "         0.0       0.81      0.81      0.81       199\n",
      "         1.0       0.46      0.60      0.52        80\n",
      "         2.0       0.57      0.21      0.30        39\n",
      "\n",
      "    accuracy                           0.68       318\n",
      "   macro avg       0.61      0.54      0.54       318\n",
      "weighted avg       0.69      0.68      0.67       318\n",
      "\n"
     ]
    }
   ],
   "source": [
    "#Classification report\n",
    "print('Test data:\\n')\n",
    "print(classification_report(y_test, grid.predict(X_test)))"
   ]
  },
  {
   "cell_type": "code",
   "execution_count": 88,
   "metadata": {
    "scrolled": true
   },
   "outputs": [
    {
     "data": {
      "text/plain": [
       "array([[161,  35,   3],\n",
       "       [ 29,  48,   3],\n",
       "       [ 10,  21,   8]], dtype=int64)"
      ]
     },
     "execution_count": 88,
     "metadata": {},
     "output_type": "execute_result"
    }
   ],
   "source": [
    "#Confusion matrix\n",
    "confusion_matrix(y_test, grid.predict(X_test), labels=[0,1,2])"
   ]
  },
  {
   "cell_type": "markdown",
   "metadata": {},
   "source": [
    "### 4.3 Model LR:TF-IDF + Vader + Textblob + Topicmodel + NER"
   ]
  },
  {
   "cell_type": "code",
   "execution_count": 153,
   "metadata": {},
   "outputs": [
    {
     "name": "stdout",
     "output_type": "stream",
     "text": [
      "Shape of train data : (1269, 7592)\n",
      "Shape of train data : (318, 7592)\n"
     ]
    }
   ],
   "source": [
    "#sentiment vectors\n",
    "train_sentiment_scores = df_train[['Textblob_score', 'Vader_score']].to_numpy()\n",
    "test_sentiment_scores = df_test[['Textblob_score', 'Vader_score']].to_numpy()\n",
    "\n",
    "#Find all NER vectors\n",
    "train_ner_vecs = df_train.loc[:,df_train.columns.str.contains('tags_')].to_numpy()\n",
    "test_ner_vecs = df_test.loc[:,df_train.columns.str.contains('tags_')].to_numpy()\n",
    "\n",
    "X_train = hstack([X_train_tfidf, train_topic_vecs, train_sentiment_scores, train_ner_vecs])\n",
    "print('Shape of train data :',X_train.shape)\n",
    "\n",
    "X_test = hstack([X_test_tfidf,test_topic_vecs, test_sentiment_scores, test_ner_vecs])\n",
    "print('Shape of train data :',X_test.shape) "
   ]
  },
  {
   "cell_type": "code",
   "execution_count": 154,
   "metadata": {},
   "outputs": [
    {
     "name": "stdout",
     "output_type": "stream",
     "text": [
      "Dataset shape: (1269, 7592) (1269,)\n",
      "Dataset shape after SMOTE: (2379, 7592) (2379,)\n"
     ]
    }
   ],
   "source": [
    "oversample = SMOTE()\n",
    "print('Dataset shape:',X_train.shape, y_train.shape )\n",
    "X, y = oversample.fit_resample(X_train, y_train)\n",
    "print('Dataset shape after SMOTE:',X.shape, y.shape )"
   ]
  },
  {
   "cell_type": "code",
   "execution_count": 155,
   "metadata": {},
   "outputs": [
    {
     "name": "stdout",
     "output_type": "stream",
     "text": [
      "Best: 0.929389 using {'C': 100, 'n_jobs': -1, 'random_state': 1, 'solver': 'newton-cg'}\n"
     ]
    }
   ],
   "source": [
    "param_grid = {'C': [0.01, 0.05, 0.1, 1, 10, 100],\\\n",
    "            'solver': ['newton-cg', 'sag', 'saga', 'lbfgs'],\\\n",
    "            'random_state' : [1],\\\n",
    "            'n_jobs':[-1]}\n",
    "\n",
    "grid = GridSearchCV(estimator=LogisticRegression(),param_grid=param_grid,cv = 5, scoring='accuracy', n_jobs = -1)\n",
    "\n",
    "grid.fit(X, y)\n",
    "\n",
    "print(\"Best: %f using %s\" % (grid.best_score_, grid.best_params_))"
   ]
  },
  {
   "cell_type": "code",
   "execution_count": 156,
   "metadata": {},
   "outputs": [
    {
     "name": "stdout",
     "output_type": "stream",
     "text": [
      "Test accuracy: 0.6949685534591195\n",
      "F1 score: 0.6026497584541063\n"
     ]
    }
   ],
   "source": [
    "#Find accuracy score\n",
    "print('Test accuracy:',accuracy_score(y_test, grid.predict(X_test)))\n",
    "print('F1 score:', f1_score(y_test, grid.predict(X_test), average='macro'))"
   ]
  },
  {
   "cell_type": "code",
   "execution_count": 157,
   "metadata": {},
   "outputs": [
    {
     "name": "stdout",
     "output_type": "stream",
     "text": [
      "Test data:\n",
      "\n",
      "              precision    recall  f1-score   support\n",
      "\n",
      "         0.0       0.86      0.76      0.81       199\n",
      "         1.0       0.48      0.68      0.56        80\n",
      "         2.0       0.50      0.38      0.43        39\n",
      "\n",
      "    accuracy                           0.69       318\n",
      "   macro avg       0.62      0.61      0.60       318\n",
      "weighted avg       0.72      0.69      0.70       318\n",
      "\n"
     ]
    }
   ],
   "source": [
    "#Classification report\n",
    "print('Test data:\\n')\n",
    "print(classification_report(y_test, grid.predict(X_test)))"
   ]
  },
  {
   "cell_type": "code",
   "execution_count": 158,
   "metadata": {},
   "outputs": [
    {
     "data": {
      "text/plain": [
       "array([[152,  38,   9],\n",
       "       [ 20,  54,   6],\n",
       "       [  4,  20,  15]], dtype=int64)"
      ]
     },
     "execution_count": 158,
     "metadata": {},
     "output_type": "execute_result"
    }
   ],
   "source": [
    "#Confusion matrix\n",
    "confusion_matrix(y_test, grid.predict(X_test), labels=[0,1,2])"
   ]
  },
  {
   "cell_type": "markdown",
   "metadata": {},
   "source": [
    "## Summary:\n",
    "Model LR:TF-IDF + Vader + Textblob + Topicmodel + NER with LR is best followed by TD-IDF with NB"
   ]
  },
  {
   "cell_type": "code",
   "execution_count": null,
   "metadata": {},
   "outputs": [],
   "source": []
  }
 ],
 "metadata": {
  "kernelspec": {
   "display_name": "Python [conda env:root] *",
   "language": "python",
   "name": "conda-root-py"
  },
  "language_info": {
   "codemirror_mode": {
    "name": "ipython",
    "version": 3
   },
   "file_extension": ".py",
   "mimetype": "text/x-python",
   "name": "python",
   "nbconvert_exporter": "python",
   "pygments_lexer": "ipython3",
   "version": "3.8.3"
  }
 },
 "nbformat": 4,
 "nbformat_minor": 2
}
