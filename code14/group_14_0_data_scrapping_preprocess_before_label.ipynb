{
 "cells": [
  {
   "cell_type": "code",
   "execution_count": 38,
   "id": "hidden-jersey",
   "metadata": {},
   "outputs": [],
   "source": [
    "import pandas as pd\n",
    "from matplotlib import pyplot as plt\n",
    "import seaborn as sns\n",
    "\n",
    "def get_date(created):\n",
    "    import datetime as dt\n",
    "    return dt.datetime.fromtimestamp(created)"
   ]
  },
  {
   "cell_type": "code",
   "execution_count": 27,
   "id": "relevant-rouge",
   "metadata": {},
   "outputs": [],
   "source": [
    "# read data\n",
    "df_depression = pd.read_csv('./Data/depression_submission_update.csv')\n",
    "df_suicide = pd.read_csv('./Data/suicide_submission_update.csv')\n",
    "df_confession = pd.read_csv('./Data/confession_submission_update.csv')\n",
    "\n",
    "# put columns 'subreedit'\n",
    "df_depression['subreddit'] = 'depression'\n",
    "df_suicide['subreddit'] = 'suicide watch'\n",
    "df_confession['subreddit'] = 'confession'\n",
    "\n",
    "# append to the dataframe\n",
    "df = df_depression.append(df_suicide)\n",
    "df = df.append(df_confession)\n",
    "df.reset_index(drop = True, inplace = True)\n",
    "\n",
    "# remove sticky false\n",
    "idsticky = df[df.stickied == True].index\n",
    "df.drop(idsticky, inplace = True)\n",
    "\n",
    "# initiate variables\n",
    "iddrop = []\n",
    "length = []\n",
    "\n",
    "# for loop to check the word count and filter off the length\n",
    "for id, sentences in enumerate(df.selftext):\n",
    "    word_list = str(sentences).split()\n",
    "    word_count = len(word_list)\n",
    "    length.append(word_count)\n",
    "    if (word_count <= 10) | (word_count >= 250) :\n",
    "        iddrop.append(id)        \n",
    "df['word_count_before'] = length\n",
    "df.drop(iddrop, inplace = True)\n",
    "\n",
    "# change the created_utc into datetime and assign to columns post_date\n",
    "df = df.assign(postdate = df['created_utc'].apply(get_date))\n",
    "\n",
    "# drop duplicates from author\n",
    "# sort the df by the dates and reset the index\n",
    "df.sort_values(by = 'postdate', ascending = True, inplace = True)\n",
    "df.reset_index(drop = True, inplace = True)\n",
    "df_drop = df.drop_duplicates(subset = ['author'], keep = 'first')"
   ]
  },
  {
   "cell_type": "code",
   "execution_count": 32,
   "id": "twenty-slide",
   "metadata": {},
   "outputs": [
    {
     "name": "stdout",
     "output_type": "stream",
     "text": [
      "length of the dataframe: 12494\n",
      "unique id counts: 12494\n"
     ]
    }
   ],
   "source": [
    "print(\"length of the dataframe:\", len(df_drop))\n",
    "print(\"unique id counts:\", df_drop.author.nunique())"
   ]
  },
  {
   "cell_type": "code",
   "execution_count": 46,
   "id": "altered-retrieval",
   "metadata": {},
   "outputs": [],
   "source": [
    "# randomise the length of data \n",
    "df_output = df_drop.sample(frac=1)\n",
    "\n",
    "# output into csv\n",
    "df_output[['author', 'postdate', 'subreddit', 'full_link', 'title', 'selftext', 'word_count_before']].to_csv('./Output/data_preprocessed.csv')"
   ]
  },
  {
   "cell_type": "code",
   "execution_count": 43,
   "id": "joined-corrections",
   "metadata": {},
   "outputs": [
    {
     "data": {
      "text/plain": [
       "count    16036.000000\n",
       "mean       100.556810\n",
       "std         63.219883\n",
       "min         11.000000\n",
       "25%         47.000000\n",
       "50%         88.000000\n",
       "75%        146.000000\n",
       "max        249.000000\n",
       "Name: word_count_before, dtype: float64"
      ]
     },
     "metadata": {},
     "output_type": "display_data"
    },
    {
     "name": "stdout",
     "output_type": "stream",
     "text": [
      "\n",
      "\n"
     ]
    },
    {
     "data": {
      "text/plain": [
       "suicide watch    6869\n",
       "depression       6701\n",
       "confession       2466\n",
       "Name: subreddit, dtype: int64"
      ]
     },
     "metadata": {},
     "output_type": "display_data"
    },
    {
     "name": "stdout",
     "output_type": "stream",
     "text": [
      "\n",
      "\n"
     ]
    },
    {
     "data": {
      "image/png": "[encoded data removed]",
      "text/plain": [
       "<Figure size 432x288 with 1 Axes>"
      ]
     },
     "metadata": {
      "needs_background": "light"
     },
     "output_type": "display_data"
    },
    {
     "data": {
      "image/png": "[encoded data removed]",
      "text/plain": [
       "<Figure size 432x288 with 1 Axes>"
      ]
     },
     "metadata": {
      "needs_background": "light"
     },
     "output_type": "display_data"
    }
   ],
   "source": [
    "display(df.word_count_before.describe())\n",
    "print('\\n')\n",
    "display(df.subreddit.value_counts())\n",
    "print('\\n')\n",
    "\n",
    "plt.figure()\n",
    "sns.boxplot(x = 'word_count_before', y = 'subreddit', data=df_drop)\n",
    "plt.title('boxplot of word count in a post')\n",
    "plt.show()\n",
    "\n",
    "plt.figure()\n",
    "df_drop.word_count_before.hist(bins =5)\n",
    "plt.title('Histogram of word count in a post')\n",
    "plt.show()"
   ]
  }
 ],
 "metadata": {
  "kernelspec": {
   "display_name": "Python [conda env:python3.7]",
   "language": "python",
   "name": "conda-env-python3.7-py"
  },
  "language_info": {
   "codemirror_mode": {
    "name": "ipython",
    "version": 3
   },
   "file_extension": ".py",
   "mimetype": "text/x-python",
   "name": "python",
   "nbconvert_exporter": "python",
   "pygments_lexer": "ipython3",
   "version": "3.7.7"
  }
 },
 "nbformat": 4,
 "nbformat_minor": 5
}
